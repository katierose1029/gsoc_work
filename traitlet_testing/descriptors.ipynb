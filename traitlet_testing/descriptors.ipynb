{
 "cells": [
  {
   "cell_type": "markdown",
   "metadata": {
    "deletable": true,
    "editable": true
   },
   "source": [
    "### Code with Mentor 6/30/17"
   ]
  },
  {
   "cell_type": "code",
   "execution_count": null,
   "metadata": {
    "collapsed": true,
    "deletable": true,
    "editable": true
   },
   "outputs": [],
   "source": [
    "from traitlets import HasDescriptors, BaseDescriptor, HasTraits, TraitType"
   ]
  },
  {
   "cell_type": "code",
   "execution_count": null,
   "metadata": {
    "collapsed": false,
    "deletable": true,
    "editable": true
   },
   "outputs": [],
   "source": [
    "#create descriptor that will set a defaut value only on\n",
    "#instances of MyClass\n",
    "class MyBaseClass(HasDescriptors):\n",
    "    def __init__(self):\n",
    "        print(\"__init__ MyBaseClass\")\n",
    "        self._data = {}"
   ]
  },
  {
   "cell_type": "code",
   "execution_count": null,
   "metadata": {
    "collapsed": false,
    "deletable": true,
    "editable": true
   },
   "outputs": [],
   "source": [
    "class Descriptor(BaseDescriptor):\n",
    "    \n",
    "    def __init__(self, default):\n",
    "        print(\"__init__ Descriptor\")\n",
    "        self.default_value = default\n",
    "    \n",
    "    #obj is the instance that is being created\n",
    "    def instance_init(self, obj):\n",
    "        print(\"instance_init Descriptor\")\n",
    "        if type(obj) is obj._data[self.name]:\n",
    "            obj._data[self.name] = self.default_value\n",
    "\n",
    "    def subclass_init(self, cls):\n",
    "        print(\"subclass_init Descriptor\")\n",
    "        obj._data[self.name] = None\n",
    "    \n",
    "    def __get__(self, obj, cls):\n",
    "        print(\"__get__ Descriptor\")\n",
    "        return obj._data[self.name]\n"
   ]
  },
  {
   "cell_type": "code",
   "execution_count": null,
   "metadata": {
    "collapsed": false,
    "deletable": true,
    "editable": true
   },
   "outputs": [],
   "source": [
    "class MyClass(MyBaseClass):\n",
    "    print(\"MyClass\")\n",
    "    # put the descriptor here\n",
    "    d = Descriptor(\"default\")\n",
    "    print(\"Descriptor d\")\n"
   ]
  },
  {
   "cell_type": "code",
   "execution_count": null,
   "metadata": {
    "collapsed": false,
    "deletable": true,
    "editable": true
   },
   "outputs": [],
   "source": [
    "c = MyClass()\n",
    "# print(c)\n",
    "# print(c.d) # returns the string \"default\""
   ]
  },
  {
   "cell_type": "code",
   "execution_count": null,
   "metadata": {
    "collapsed": false,
    "deletable": true,
    "editable": true
   },
   "outputs": [],
   "source": [
    "class MySubclass(MyClass):\n",
    "    print(\"MySubClass\")\n",
    "    pass\n",
    "\n",
    "s = MySubclass()\n",
    "# s.d # raises an error\n"
   ]
  },
  {
   "cell_type": "markdown",
   "metadata": {
    "deletable": true,
    "editable": true
   },
   "source": [
    "### My Descriptor"
   ]
  },
  {
   "cell_type": "code",
   "execution_count": 1,
   "metadata": {
    "collapsed": true,
    "deletable": true,
    "editable": true
   },
   "outputs": [],
   "source": [
    "from traitlets import HasDescriptors, BaseDescriptor, HasTraits, TraitType"
   ]
  },
  {
   "cell_type": "code",
   "execution_count": 2,
   "metadata": {
    "collapsed": false,
    "deletable": true,
    "editable": true
   },
   "outputs": [],
   "source": [
    "#create descriptor that will set a defaut value only on\n",
    "#instances of MyClass\n",
    "class MyBaseClass(HasDescriptors):\n",
    "    def __init__(self):\n",
    "        print(\"__init__ MyBaseClass\")\n",
    "        self._data = {}"
   ]
  },
  {
   "cell_type": "code",
   "execution_count": 17,
   "metadata": {
    "collapsed": false,
    "deletable": true,
    "editable": true
   },
   "outputs": [
    {
     "name": "stdout",
     "output_type": "stream",
     "text": [
      "MyDescriptor\n"
     ]
    }
   ],
   "source": [
    "class MyDescriptor(BaseDescriptor):\n",
    "    print(\"MyDescriptor\")\n",
    "    \n",
    "    #init initailizes the descriptor obj\n",
    "    def __init__(self, default):\n",
    "        print(\"__init__ MyDescriptor\")\n",
    "        self.default_value = default\n",
    "        \n",
    "    #pass the class and name in which the descriptor lives in \n",
    "    def class_init(self, cls, name):\n",
    "        print(\"class_init MyDescriptor\")\n",
    "        self.this_class = cls\n",
    "        self.name = name\n",
    "        print(\"self.this_class: \", self.this_class)\n",
    "        print(\"self.name: \", self.name)\n",
    "        \n",
    "    #cls is the child class \n",
    "    def subclass_init(self, cls):\n",
    "        print(\"subclass_init MyDescriptor\")\n",
    "        class_init(cls)\n",
    "       \n",
    "    #obj is the instance being created \n",
    "    def instance_init(self, obj):\n",
    "        print(\"instance_init MyDescriptor\")\n",
    "        if isinstance(obj, type):\n",
    "            print(\"isinstance: \", isinstance(obj, type))\n",
    "            obj._data[self.name] = self.default_value"
   ]
  },
  {
   "cell_type": "code",
   "execution_count": 18,
   "metadata": {
    "collapsed": false,
    "deletable": true,
    "editable": true
   },
   "outputs": [
    {
     "name": "stdout",
     "output_type": "stream",
     "text": [
      "MyClass\n",
      "__init__ MyDescriptor\n",
      "MyDescriptor:  <__main__.MyDescriptor object at 0x1045d91d0>\n",
      "class_init MyDescriptor\n",
      "self.this_class:  <class '__main__.MyClass'>\n",
      "self.name:  d\n",
      "\n",
      "------------------------------------------------------------------\n",
      "\n",
      "MySubClass\n",
      "__init__ MyDescriptor\n",
      "MyDescriptor:  <__main__.MyDescriptor object at 0x10462fc50>\n",
      "__init__ MyDescriptor\n",
      "MyDescriptor:  <__main__.MyDescriptor object at 0x10462f0f0>\n",
      "class_init MyDescriptor\n",
      "self.this_class:  <class '__main__.MySubclass'>\n",
      "self.name:  d\n",
      "class_init MyDescriptor\n",
      "self.this_class:  <class '__main__.MySubclass'>\n",
      "self.name:  a\n"
     ]
    }
   ],
   "source": [
    "class MyClass(MyBaseClass):\n",
    "    print(\"MyClass\")\n",
    "    # put the descriptor here\n",
    "    d = MyDescriptor(\"default\")\n",
    "    print(\"MyDescriptor: \", d)\n",
    "\n",
    "    \n",
    "print(\"\")\n",
    "print(\"------------------------------------------------------------------\")\n",
    "print(\"\")\n",
    "class MySubclass(MyClass):\n",
    "    print(\"MySubClass\")\n",
    "#     d = MyDescriptor(\"subclass default\")\n",
    "#     print(\"MyDescriptor: \", d)\n",
    "    a = MyDescriptor(\"subclass default\")\n",
    "    print(\"MyDescriptor: \", a)"
   ]
  },
  {
   "cell_type": "code",
   "execution_count": 19,
   "metadata": {
    "collapsed": false,
    "deletable": true,
    "editable": true
   },
   "outputs": [
    {
     "name": "stdout",
     "output_type": "stream",
     "text": [
      "instance_init MyDescriptor\n",
      "__init__ MyBaseClass\n",
      "b:  <__main__.MyClass object at 0x104621358>\n",
      "b.d:  <__main__.MyDescriptor object at 0x1045d91d0>\n"
     ]
    }
   ],
   "source": [
    "b = MyClass()\n",
    "print(\"b: \", b)\n",
    "print(\"b.d: \", b.d)"
   ]
  },
  {
   "cell_type": "code",
   "execution_count": 16,
   "metadata": {
    "collapsed": false,
    "deletable": true,
    "editable": true,
    "scrolled": true
   },
   "outputs": [
    {
     "name": "stdout",
     "output_type": "stream",
     "text": [
      "instance_init MyDescriptor\n",
      "instance_init MyDescriptor\n",
      "__init__ MyBaseClass\n",
      "c:  <__main__.MySubclass object at 0x1045c1f60>\n",
      "c.d:  <__main__.MyDescriptor object at 0x1045c1390>\n",
      "c.a:  <__main__.MyDescriptor object at 0x1045c1128>\n"
     ]
    }
   ],
   "source": [
    "c = MySubclass()\n",
    "print(\"c: \", c)\n",
    "print(\"c.d: \", c.d)\n",
    "print(\"c.a: \", c.a)"
   ]
  },
  {
   "cell_type": "code",
   "execution_count": null,
   "metadata": {
    "collapsed": false,
    "deletable": true,
    "editable": true
   },
   "outputs": [],
   "source": []
  },
  {
   "cell_type": "code",
   "execution_count": null,
   "metadata": {
    "collapsed": true,
    "deletable": true,
    "editable": true
   },
   "outputs": [],
   "source": []
  },
  {
   "cell_type": "code",
   "execution_count": null,
   "metadata": {
    "collapsed": true,
    "deletable": true,
    "editable": true
   },
   "outputs": [],
   "source": []
  }
 ],
 "metadata": {
  "kernelspec": {
   "display_name": "Python 3",
   "language": "python",
   "name": "python3"
  },
  "language_info": {
   "codemirror_mode": {
    "name": "ipython",
    "version": 3
   },
   "file_extension": ".py",
   "mimetype": "text/x-python",
   "name": "python",
   "nbconvert_exporter": "python",
   "pygments_lexer": "ipython3",
   "version": "3.6.1"
  }
 },
 "nbformat": 4,
 "nbformat_minor": 2
}
