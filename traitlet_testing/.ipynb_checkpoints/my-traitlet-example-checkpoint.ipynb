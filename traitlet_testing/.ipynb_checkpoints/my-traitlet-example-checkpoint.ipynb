{
 "cells": [
  {
   "cell_type": "code",
   "execution_count": 1,
   "metadata": {
    "collapsed": true,
    "deletable": true,
    "editable": true
   },
   "outputs": [],
   "source": [
    "from __future__ import print_function\n",
    "from traitlets.utils.descriptions import describe\n",
    "import six\n",
    "import types\n",
    "import inspect\n",
    "import functools\n",
    "from traitlets import *"
   ]
  },
  {
   "cell_type": "markdown",
   "metadata": {
    "deletable": true,
    "editable": true
   },
   "source": [
    "#### Decorators"
   ]
  },
  {
   "cell_type": "code",
   "execution_count": 2,
   "metadata": {
    "collapsed": true,
    "deletable": true,
    "editable": true
   },
   "outputs": [],
   "source": [
    "def my_stringify(my_function):\n",
    "    print('my_function', my_function)\n",
    "    print('entered my_stringify')\n",
    "    def my_wrapper(*args, **kwargs):\n",
    "        print('enter my_wrapper')\n",
    "        result = my_function(*args, **kwargs)\n",
    "        print('result computed')\n",
    "        return str(result)\n",
    "    print('return my_wrapper')\n",
    "    return my_wrapper"
   ]
  },
  {
   "cell_type": "code",
   "execution_count": 3,
   "metadata": {
    "collapsed": true,
    "deletable": true,
    "editable": true
   },
   "outputs": [],
   "source": [
    "def my_result(my_function):\n",
    "    print('my_function', my_function)\n",
    "    print('entered my_result')\n",
    "    def my_wrapper(*args, **kwargs):\n",
    "        print('entered my_wrapper')\n",
    "        result = my_function(*args, **kwargs)\n",
    "        print('result computed')\n",
    "        return result\n",
    "    print('return my_wrapper')\n",
    "    return my_wrapper"
   ]
  },
  {
   "cell_type": "code",
   "execution_count": 4,
   "metadata": {
    "collapsed": false,
    "deletable": true,
    "editable": true
   },
   "outputs": [
    {
     "name": "stdout",
     "output_type": "stream",
     "text": [
      "my_function <function my_square_function at 0x10dcd61e0>\n",
      "entered my_stringify\n",
      "return my_wrapper\n"
     ]
    }
   ],
   "source": [
    "@my_stringify\n",
    "def my_square_function(x):\n",
    "    return x**2"
   ]
  },
  {
   "cell_type": "code",
   "execution_count": 5,
   "metadata": {
    "collapsed": false,
    "deletable": true,
    "editable": true
   },
   "outputs": [
    {
     "name": "stdout",
     "output_type": "stream",
     "text": [
      "enter my_wrapper\n",
      "result computed\n"
     ]
    },
    {
     "data": {
      "text/plain": [
       "'4'"
      ]
     },
     "execution_count": 5,
     "metadata": {},
     "output_type": "execute_result"
    }
   ],
   "source": [
    "my_square_function(2)"
   ]
  },
  {
   "cell_type": "code",
   "execution_count": 6,
   "metadata": {
    "collapsed": false,
    "deletable": true,
    "editable": true
   },
   "outputs": [
    {
     "name": "stdout",
     "output_type": "stream",
     "text": [
      "my_function <function my_cube_function at 0x10dcb2f28>\n",
      "entered my_result\n",
      "return my_wrapper\n"
     ]
    }
   ],
   "source": [
    "@my_result\n",
    "def my_cube_function(x):\n",
    "    return x**3"
   ]
  },
  {
   "cell_type": "code",
   "execution_count": 7,
   "metadata": {
    "collapsed": false,
    "deletable": true,
    "editable": true,
    "scrolled": true
   },
   "outputs": [
    {
     "name": "stdout",
     "output_type": "stream",
     "text": [
      "entered my_wrapper\n",
      "result computed\n"
     ]
    },
    {
     "data": {
      "text/plain": [
       "27"
      ]
     },
     "execution_count": 7,
     "metadata": {},
     "output_type": "execute_result"
    }
   ],
   "source": [
    "my_cube_function(3)"
   ]
  },
  {
   "cell_type": "markdown",
   "metadata": {
    "deletable": true,
    "editable": true
   },
   "source": [
    "#### Descriptors"
   ]
  },
  {
   "cell_type": "code",
   "execution_count": 8,
   "metadata": {
    "collapsed": true,
    "deletable": true,
    "editable": true
   },
   "outputs": [],
   "source": [
    "class my_descriptor(object):\n",
    "    \n",
    "    def __set__(self, obj, value):\n",
    "        print(\"setting %r to %r\" % (value, obj))\n",
    "\n",
    "    def __get__(self, obj, cls):\n",
    "        print(\"getting from %r\" % obj)\n",
    "\n",
    "    def __delete__(self, obj):\n",
    "        print(\"deleting from %r\" % obj)"
   ]
  },
  {
   "cell_type": "code",
   "execution_count": 9,
   "metadata": {
    "collapsed": true,
    "deletable": true,
    "editable": true
   },
   "outputs": [],
   "source": [
    "class my_class(object):\n",
    "    my_x = my_descriptor()"
   ]
  },
  {
   "cell_type": "code",
   "execution_count": 10,
   "metadata": {
    "collapsed": false,
    "deletable": true,
    "editable": true
   },
   "outputs": [],
   "source": [
    "my_object = my_class()"
   ]
  },
  {
   "cell_type": "code",
   "execution_count": 11,
   "metadata": {
    "collapsed": false,
    "deletable": true,
    "editable": true
   },
   "outputs": [
    {
     "name": "stdout",
     "output_type": "stream",
     "text": [
      "getting from <__main__.my_class object at 0x10dced0b8>\n"
     ]
    }
   ],
   "source": [
    "my_object.my_x"
   ]
  },
  {
   "cell_type": "code",
   "execution_count": 12,
   "metadata": {
    "collapsed": false,
    "deletable": true,
    "editable": true
   },
   "outputs": [
    {
     "name": "stdout",
     "output_type": "stream",
     "text": [
      "setting 5 to <__main__.my_class object at 0x10dced0b8>\n"
     ]
    }
   ],
   "source": [
    "my_object.my_x = 5"
   ]
  },
  {
   "cell_type": "code",
   "execution_count": 13,
   "metadata": {
    "collapsed": false,
    "deletable": true,
    "editable": true
   },
   "outputs": [
    {
     "name": "stdout",
     "output_type": "stream",
     "text": [
      "setting 6 to <__main__.my_class object at 0x10dced0b8>\n"
     ]
    }
   ],
   "source": [
    "my_object.my_x = 6"
   ]
  },
  {
   "cell_type": "code",
   "execution_count": 14,
   "metadata": {
    "collapsed": false,
    "deletable": true,
    "editable": true
   },
   "outputs": [
    {
     "name": "stdout",
     "output_type": "stream",
     "text": [
      "setting 'a value' to <__main__.my_class object at 0x10dced0b8>\n"
     ]
    }
   ],
   "source": [
    "my_object.my_x = 'a value'"
   ]
  },
  {
   "cell_type": "code",
   "execution_count": 15,
   "metadata": {
    "collapsed": false,
    "deletable": true,
    "editable": true
   },
   "outputs": [
    {
     "name": "stdout",
     "output_type": "stream",
     "text": [
      "deleting from <__main__.my_class object at 0x10dced0b8>\n"
     ]
    }
   ],
   "source": [
    "del my_object.my_x"
   ]
  },
  {
   "cell_type": "code",
   "execution_count": 16,
   "metadata": {
    "collapsed": false,
    "deletable": true,
    "editable": true
   },
   "outputs": [
    {
     "name": "stdout",
     "output_type": "stream",
     "text": [
      "getting from <__main__.my_class object at 0x10dced0b8>\n"
     ]
    }
   ],
   "source": [
    "my_object.my_x"
   ]
  },
  {
   "cell_type": "markdown",
   "metadata": {
    "deletable": true,
    "editable": true
   },
   "source": [
    "#### Metaclasses"
   ]
  },
  {
   "cell_type": "code",
   "execution_count": 17,
   "metadata": {
    "collapsed": false,
    "deletable": true,
    "editable": true
   },
   "outputs": [
    {
     "name": "stdout",
     "output_type": "stream",
     "text": [
      "It is True that <class 'int'> is an instance of <class 'type'>\n",
      "It is True that <class 'str'> is an instance of <class 'type'>\n",
      "It is True that <class 'bool'> is an instance of <class 'type'>\n",
      "It is True that <class 'object'> is an instance of <class 'type'>\n",
      "It is True that <class 'type'> is an instance of <class 'type'>\n"
     ]
    }
   ],
   "source": [
    "for cls in (int, str, bool, object, type):\n",
    "    print(\"It is %s that %r is an instance of %r\" % (isinstance(cls, type), cls, type))"
   ]
  },
  {
   "cell_type": "code",
   "execution_count": 18,
   "metadata": {
    "collapsed": false,
    "deletable": true,
    "editable": true
   },
   "outputs": [
    {
     "name": "stdout",
     "output_type": "stream",
     "text": [
      "type(Foobar): <class 'type'>\n",
      "foo:  <__main__.Foobar object at 0x10dced8d0>\n",
      "type(foo):  <__main__.Foobar object at 0x10dced8d0>\n",
      "isinstance(foo, Foobar):  True\n",
      "isinstance(Foobar, type): True\n"
     ]
    }
   ],
   "source": [
    "class Foobar:\n",
    "    pass\n",
    "\n",
    "print('type(Foobar):', type(Foobar))\n",
    "foo = Foobar()\n",
    "print('foo: ', foo)\n",
    "print('type(foo): ', foo)\n",
    "print('isinstance(foo, Foobar): ', isinstance(foo, Foobar))\n",
    "#idk why this statement is false\n",
    "print('isinstance(Foobar, type):', isinstance(Foobar, type))"
   ]
  },
  {
   "cell_type": "code",
   "execution_count": 19,
   "metadata": {
    "collapsed": true,
    "deletable": true,
    "editable": true
   },
   "outputs": [],
   "source": [
    "\n",
    "\"\"\"\n",
    "__dict__: The namespace supporting arbitrary function attributes.\n",
    "\n",
    "A module object has a namespace implemented by a dictionary object \n",
    "(this is the dictionary referenced by the __globals__ attribute of \n",
    "functions defined in the module). Attribute references are translated \n",
    "to lookups in this dictionary, e.g., m.x is equivalent to m.__dict__[\"x\"].\n",
    "\n",
    "Attribute assignment updates the module’s namespace \n",
    "dictionary, e.g., m.x = 1 is equivalent to m.__dict__[\"x\"] = 1.\n",
    "\n",
    "Special read-only attribute: __dict__ is the module’s \n",
    "namespace as a dictionary object.\n",
    "\"\"\"\n",
    "class Feature(object):\n",
    "    \n",
    "    klass = None\n",
    "    \n",
    "    def class_init(self, cls, name):\n",
    "        print(\"the feature %r was assigned to %r\" % (self, name))\n",
    "        self.this_class = cls\n",
    "        self.name = name\n",
    "\n",
    "    def __set__(self, obj, value):\n",
    "        if isinstance(value, self.klass):\n",
    "            obj.__dict__[self.name] = value\n",
    "        else:\n",
    "            raise TypeError(\"Expected a %r instance, not %s\" % (self.klass, describe(\"the\", value)))\n",
    "    \n",
    "    def __get__(self, obj, cls):\n",
    "        if obj is None:\n",
    "            # this is true when accessing the attributed\n",
    "            # from the class, not instances of the class\n",
    "            return self\n",
    "        return obj.__dict__[self.name]\n",
    "    \n",
    "    def __delete__(self, obj):\n",
    "        del obj.__dict__[self.name]\n",
    "\n"
   ]
  },
  {
   "cell_type": "code",
   "execution_count": 20,
   "metadata": {
    "collapsed": true,
    "deletable": true,
    "editable": true
   },
   "outputs": [],
   "source": [
    "class MetaHasFeatures(type):\n",
    "\n",
    "    def __init__(cls, name, bases, classdict):\n",
    "        print(\"creating %r\" % cls)\n",
    "        for k, v in classdict.items():\n",
    "            if isinstance(v, Feature):\n",
    "                v.class_init(cls, k)\n"
   ]
  },
  {
   "cell_type": "code",
   "execution_count": 21,
   "metadata": {
    "collapsed": false,
    "deletable": true,
    "editable": true
   },
   "outputs": [
    {
     "name": "stdout",
     "output_type": "stream",
     "text": [
      "creating <class '__main__.HasFeatures'>\n"
     ]
    }
   ],
   "source": [
    "class HasFeatures(six.with_metaclass(MetaHasFeatures, object)):\n",
    "    pass"
   ]
  },
  {
   "cell_type": "code",
   "execution_count": 22,
   "metadata": {
    "collapsed": true,
    "deletable": true,
    "editable": true
   },
   "outputs": [],
   "source": [
    "\"\"\"\n",
    "MyInt inherits Feature\n",
    "klass is overriden -> only accepts ints\n",
    "\"\"\"\n",
    "class MyInt(Feature):\n",
    "    # this feature only accepts ints\n",
    "    klass = int"
   ]
  },
  {
   "cell_type": "code",
   "execution_count": 23,
   "metadata": {
    "collapsed": true,
    "deletable": true,
    "editable": true
   },
   "outputs": [],
   "source": [
    "\"\"\"\n",
    "MyStr inherits Feature\n",
    "klass is overriden -> only accepts ints\n",
    "\"\"\"\n",
    "class MyStr(Feature):\n",
    "    # this feature only accepts strings\n",
    "    klass = str"
   ]
  },
  {
   "cell_type": "code",
   "execution_count": 24,
   "metadata": {
    "collapsed": true,
    "deletable": true,
    "editable": true
   },
   "outputs": [],
   "source": [
    "class MyBool(Feature):\n",
    "    # this feature only accepts boolean\n",
    "    klass = bool"
   ]
  },
  {
   "cell_type": "code",
   "execution_count": 25,
   "metadata": {
    "collapsed": false,
    "deletable": true,
    "editable": true
   },
   "outputs": [
    {
     "name": "stdout",
     "output_type": "stream",
     "text": [
      "creating <class '__main__.MyClass'>\n",
      "the feature <__main__.MyInt object at 0x10dcc0978> was assigned to 'i'\n",
      "the feature <__main__.MyStr object at 0x10dcc0a58> was assigned to 's'\n",
      "the feature <__main__.MyBool object at 0x10dcc0ef0> was assigned to 'b'\n"
     ]
    }
   ],
   "source": [
    "\"\"\"\n",
    "MyClass inherits HasFeatures\n",
    "six.with_metaclass(metaclass, *bases)\n",
    "Create a new class with base classes bases and metaclass metaclass. \n",
    "This is designed to be used in class declarations\n",
    "\"\"\"\n",
    "class MyClass(HasFeatures):\n",
    "    i = MyInt()\n",
    "    s = MyStr()\n",
    "    b = MyBool()\n",
    "mc = MyClass()"
   ]
  },
  {
   "cell_type": "code",
   "execution_count": 26,
   "metadata": {
    "collapsed": false,
    "deletable": true,
    "editable": true
   },
   "outputs": [],
   "source": [
    "\n",
    "\n",
    "# try:\n",
    "#     mc.i = 1\n",
    "# except Exception as e:\n",
    "#     print(e)\n",
    "\n",
    "# try:\n",
    "#     mc.s = \"i = 1\"\n",
    "# except Exception as e:\n",
    "#     print(e)\n",
    "    \n",
    "# try:\n",
    "#     mc.b = True\n",
    "# except Exception as e:\n",
    "#     print(e)\n"
   ]
  },
  {
   "cell_type": "code",
   "execution_count": 27,
   "metadata": {
    "collapsed": false,
    "deletable": true,
    "editable": true
   },
   "outputs": [
    {
     "name": "stdout",
     "output_type": "stream",
     "text": [
      "-------------------------------\n",
      "assigned the value 1\n",
      "-------------------------------\n",
      "assigned the value i = 1\n",
      "-------------------------------\n",
      "assigned the value True\n"
     ]
    }
   ],
   "source": [
    "print(\"-------------------------------\")\n",
    "mc.i = 1\n",
    "print(\"assigned the value %r\" % 1)\n",
    "\n",
    "print(\"-------------------------------\")\n",
    "mc.s = \"i = 1\"\n",
    "print(\"assigned the value %s\" % \"i = 1\")\n",
    "\n",
    "print(\"-------------------------------\")\n",
    "mc.b = True\n",
    "print(\"assigned the value %r\" % True)"
   ]
  },
  {
   "cell_type": "code",
   "execution_count": 28,
   "metadata": {
    "collapsed": false,
    "deletable": true,
    "editable": true
   },
   "outputs": [
    {
     "name": "stdout",
     "output_type": "stream",
     "text": [
      "-------------------------------\n",
      "get 1 from <__main__.MyClass object at 0x10dcc0c50>\n",
      "-------------------------------\n",
      "get i = 1 from <__main__.MyClass object at 0x10dcc0c50>\n",
      "-------------------------------\n",
      "get True from <__main__.MyClass object at 0x10dcc0c50>\n"
     ]
    }
   ],
   "source": [
    "print(\"-------------------------------\")\n",
    "print(\"get %r from %r\" % (mc.i, mc))\n",
    "print(\"-------------------------------\")\n",
    "print(\"get %s from %r\" % (mc.s, mc))\n",
    "print(\"-------------------------------\")\n",
    "print(\"get %r from %r\" % (mc.b, mc))"
   ]
  },
  {
   "cell_type": "markdown",
   "metadata": {
    "deletable": true,
    "editable": true
   },
   "source": [
    "#### Let's go back to decorators..."
   ]
  },
  {
   "cell_type": "markdown",
   "metadata": {
    "deletable": true,
    "editable": true
   },
   "source": [
    "A `BaseDecorator` object. When called, it must still act like a method."
   ]
  },
  {
   "cell_type": "code",
   "execution_count": 29,
   "metadata": {
    "collapsed": false,
    "deletable": true,
    "editable": true
   },
   "outputs": [],
   "source": [
    "class BaseDecorator(object):\n",
    "\n",
    "    def __init__(self, name, method):\n",
    "        print(\"-------------------------------\")\n",
    "        print('BaseDecorator __init__')\n",
    "        print(\"-------------------------------\")\n",
    "        self.feature_name = name\n",
    "        self.method = method\n",
    "    \n",
    "    def __call__(self, *args, **kwargs):\n",
    "        print(\"-------------------------------\")\n",
    "        print('BaseDecorator __call__')\n",
    "        print(self.method)\n",
    "        print(\"-------------------------------\")\n",
    "        return self.method(*args, **kwargs)\n",
    "    \n",
    "    def __get__(self, obj, cls):\n",
    "        print(\"-------------------------------\")\n",
    "        print('BaseDecorator __get__')\n",
    "        if obj is None:\n",
    "            return self\n",
    "        print(types.MethodType(self.method, obj))\n",
    "        print(\"-------------------------------\")\n",
    "        return types.MethodType(self.method, obj)"
   ]
  },
  {
   "cell_type": "markdown",
   "metadata": {
    "deletable": true,
    "editable": true
   },
   "source": [
    "An `observe` decorator. Wraps a method in an `Observer` object."
   ]
  },
  {
   "cell_type": "code",
   "execution_count": 30,
   "metadata": {
    "collapsed": true,
    "deletable": true,
    "editable": true
   },
   "outputs": [],
   "source": [
    "def observe(name):\n",
    "    print('observe decorator')\n",
    "    def setup(method):\n",
    "        print(\"-------------------------------\")\n",
    "        print('observe decorator setup')\n",
    "        print(\"-------------------------------\")\n",
    "        return Observer(name, method)\n",
    "    return setup"
   ]
  },
  {
   "cell_type": "markdown",
   "metadata": {
    "deletable": true,
    "editable": true
   },
   "source": [
    "An `Observer` object. After the instance is created it must register itself as an observer."
   ]
  },
  {
   "cell_type": "code",
   "execution_count": 31,
   "metadata": {
    "collapsed": false,
    "deletable": true,
    "editable": true
   },
   "outputs": [
    {
     "name": "stdout",
     "output_type": "stream",
     "text": [
      "class Observer\n"
     ]
    }
   ],
   "source": [
    "class Observer(BaseDecorator):\n",
    "    print('class Observer')\n",
    "    def instance_init(self, obj):\n",
    "        print(\"-------------------------------\")\n",
    "        print('instance_init')\n",
    "        obj.observe(self, self.feature_name)\n",
    "        print('obj.observe')\n",
    "        print(\"-------------------------------\")"
   ]
  },
  {
   "cell_type": "markdown",
   "metadata": {
    "deletable": true,
    "editable": true
   },
   "source": [
    "An `OtherFeature` descriptor. It will notify its owner whenever a value changes"
   ]
  },
  {
   "cell_type": "code",
   "execution_count": 32,
   "metadata": {
    "collapsed": false,
    "deletable": true,
    "editable": true
   },
   "outputs": [
    {
     "name": "stdout",
     "output_type": "stream",
     "text": [
      "OtherFeature\n"
     ]
    }
   ],
   "source": [
    "class OtherFeature(Feature):\n",
    "    print('OtherFeature')\n",
    "    def __set__(self, obj, new):\n",
    "        print(\"-------------------------------\")\n",
    "        print('OtherFeature __set__')\n",
    "        print('obj.__dict__', obj.__dict__)\n",
    "        old = obj.__dict__.get(self.name, None)\n",
    "        print('obj.__dict__', obj.__dict__)\n",
    "        print(\"-------------------------------\")\n",
    "        super(OtherFeature, self).__set__(obj, new)\n",
    "        if new != old:\n",
    "            data = dict(old=old, new=new, name=self.name, owner=obj)\n",
    "            obj.notify(data)"
   ]
  },
  {
   "cell_type": "markdown",
   "metadata": {
    "deletable": true,
    "editable": true
   },
   "source": [
    "A new `HasOtherFeatures` class. \n",
    "\n",
    "It will find `BaseObservers` and call their `instance_init` methods so they can register themselves Offer a method `observe` that will register observers Offer a `notify` which will be used to pass change data to observers."
   ]
  },
  {
   "cell_type": "code",
   "execution_count": 33,
   "metadata": {
    "collapsed": false,
    "deletable": true,
    "editable": true
   },
   "outputs": [
    {
     "name": "stdout",
     "output_type": "stream",
     "text": [
      "HasOtherfeatures\n",
      "creating <class '__main__.HasOtherFeatures'>\n"
     ]
    }
   ],
   "source": [
    "class HasOtherFeatures(HasFeatures):\n",
    "    print('HasOtherfeatures')\n",
    "\n",
    "    def __init__(self):\n",
    "        print(\"-------------------------------\")\n",
    "        print('HasOtherfeatures __init__')\n",
    "        print(\"-------------------------------\")\n",
    "        self._observers = {}\n",
    "        self.setup()\n",
    "    \n",
    "    def setup(self):\n",
    "        print(\"-------------------------------\")\n",
    "        print('HasOtherfeatures setup')\n",
    "        print(\"-------------------------------\")\n",
    "        for k, v in inspect.getmembers(type(self)):\n",
    "            if isinstance(v, BaseDecorator):\n",
    "                v.instance_init(self)\n",
    "    \n",
    "    def observe(self, handler, name):\n",
    "        print(\"-------------------------------\")\n",
    "        print('HasOtherfeatures observe')\n",
    "        print(\"-------------------------------\")\n",
    "        if name in self._observers:\n",
    "            olist = self._observers[name]\n",
    "        else:\n",
    "            olist = []\n",
    "            self._observers[name] = olist\n",
    "        if handler not in olist:\n",
    "            olist.append(handler)\n",
    "    \n",
    "    def notify(self, data):\n",
    "        print(\"-------------------------------\")\n",
    "        print('HasOtherfeatures notify')\n",
    "        print(\"-------------------------------\")\n",
    "        for o in self._observers.get(data[\"name\"], []):\n",
    "            if isinstance(o, BaseDecorator):\n",
    "                o(self, data)\n",
    "            else:\n",
    "                o(data)"
   ]
  },
  {
   "cell_type": "code",
   "execution_count": 34,
   "metadata": {
    "collapsed": false,
    "deletable": true,
    "editable": true,
    "scrolled": true
   },
   "outputs": [
    {
     "name": "stdout",
     "output_type": "stream",
     "text": [
      "observe decorator\n",
      "-------------------------------\n",
      "observe decorator setup\n",
      "-------------------------------\n",
      "-------------------------------\n",
      "BaseDecorator __init__\n",
      "-------------------------------\n",
      "creating <class '__main__.MyClass'>\n",
      "the feature <__main__.MyInt object at 0x10dcff898> was assigned to 'i'\n",
      "the feature <__main__.MyStr object at 0x10dcff080> was assigned to 's'\n",
      "the feature <__main__.MyBool object at 0x10dcff208> was assigned to 'b'\n",
      "-------------------------------\n",
      "init mc\n",
      "-------------------------------\n",
      "HasOtherfeatures __init__\n",
      "-------------------------------\n",
      "-------------------------------\n",
      "HasOtherfeatures setup\n",
      "-------------------------------\n",
      "-------------------------------\n",
      "BaseDecorator __get__\n",
      "-------------------------------\n",
      "instance_init\n",
      "-------------------------------\n",
      "HasOtherfeatures observe\n",
      "-------------------------------\n",
      "obj.observe\n",
      "-------------------------------\n",
      "set mc.i = 1\n",
      "-------------------------------\n",
      "OtherFeature __set__\n",
      "obj.__dict__ {'_observers': {'i': [<__main__.Observer object at 0x10dcff978>]}}\n",
      "obj.__dict__ {'_observers': {'i': [<__main__.Observer object at 0x10dcff978>]}}\n",
      "-------------------------------\n",
      "-------------------------------\n",
      "HasOtherfeatures notify\n",
      "-------------------------------\n",
      "-------------------------------\n",
      "BaseDecorator __call__\n",
      "<function MyClass._i_observer at 0x10dcd6510>\n",
      "-------------------------------\n",
      "observed a change!\n",
      "{'old': None, 'new': 1, 'name': 'i', 'owner': <__main__.MyClass object at 0x10dcff278>}\n",
      "-------------------------------\n",
      "-------------------------------\n",
      "OtherFeature __set__\n",
      "obj.__dict__ {'_observers': {'i': [<__main__.Observer object at 0x10dcff978>]}, 'i': 1}\n",
      "obj.__dict__ {'_observers': {'i': [<__main__.Observer object at 0x10dcff978>]}, 'i': 1}\n",
      "-------------------------------\n",
      "-------------------------------\n",
      "HasOtherfeatures notify\n",
      "-------------------------------\n",
      "-------------------------------\n",
      "BaseDecorator __call__\n",
      "<function MyClass._i_observer at 0x10dcd6510>\n",
      "-------------------------------\n",
      "observed a change!\n",
      "{'old': 1, 'new': 2, 'name': 'i', 'owner': <__main__.MyClass object at 0x10dcff278>}\n",
      "-------------------------------\n",
      "-------------------------------\n",
      "OtherFeature __set__\n",
      "obj.__dict__ {'_observers': {'i': [<__main__.Observer object at 0x10dcff978>]}, 'i': 2}\n",
      "obj.__dict__ {'_observers': {'i': [<__main__.Observer object at 0x10dcff978>]}, 'i': 2}\n",
      "-------------------------------\n",
      "-------------------------------\n",
      "HasOtherfeatures notify\n",
      "-------------------------------\n",
      "-------------------------------\n",
      "-------------------------------\n",
      "OtherFeature __set__\n",
      "obj.__dict__ {'_observers': {'i': [<__main__.Observer object at 0x10dcff978>]}, 'i': 2, 's': 'i = 2'}\n",
      "obj.__dict__ {'_observers': {'i': [<__main__.Observer object at 0x10dcff978>]}, 'i': 2, 's': 'i = 2'}\n",
      "-------------------------------\n",
      "-------------------------------\n",
      "HasOtherfeatures notify\n",
      "-------------------------------\n",
      "-------------------------------\n"
     ]
    }
   ],
   "source": [
    "class MyInt(OtherFeature):\n",
    "    # this feature only accepts ints\n",
    "    klass = int\n",
    "    \n",
    "class MyStr(OtherFeature):\n",
    "    # this feature only accepts strings\n",
    "    klass = str\n",
    "    \n",
    "class MyBool(OtherFeature):\n",
    "    # this feature only accepts boolean\n",
    "    klass = bool\n",
    "\n",
    "class MyClass(HasOtherFeatures):\n",
    "    i = MyInt()\n",
    "    s = MyStr()\n",
    "    b = MyBool()\n",
    "    \n",
    "    @observe(\"i\")\n",
    "    def _i_observer(self, data):\n",
    "        print(\"observed a change!\")\n",
    "        print(data)\n",
    "\n",
    "print(\"-------------------------------\")\n",
    "print('init mc')\n",
    "mc = MyClass()\n",
    "print('set mc.i = 1')\n",
    "mc.i = 1\n",
    "print(\"-------------------------------\")\n",
    "mc.i = 2\n",
    "print(\"-------------------------------\")\n",
    "mc.s = 'i = 2'\n",
    "print(\"-------------------------------\")\n",
    "mc.b = True\n",
    "print(\"-------------------------------\")"
   ]
  },
  {
   "cell_type": "markdown",
   "metadata": {
    "deletable": true,
    "editable": true
   },
   "source": [
    "# Traitlets\n",
    "---\n",
    "\n",
    "## Defaults\n",
    "\n",
    "Default value generators create values \"on request\". In other words, it's only when you call `getattr`\n",
    "that the method `MyClass._i_default` will be used to create the default. Whatever it returns will be validated, assigned as the current value of the trait, and then returned to the getattr call.\n",
    "\n",
    "## Validation\n",
    "\n",
    "Traits have internal validation and cross validation. The interal stages occur first, and are the same for all instances of a trait type. Cross validators are created by users with the `@validate` decorator - we call them this because a validator which is a method on the owner of the trait can check to see whether the value is correct with respect to the state of the instance itself - say to check whether a value falls between the `min` and `max` attributes on the owner instance. Cross validation occurs after internal validation, so a cross validator of an `Int` trait can already expect that the values it recieves are `int` instances. No need to check whether `isinstance(proposal.value, int)`.\n",
    "\n",
    "## Observers\n",
    "\n",
    "Events can be observed by specifying trait names, traits with certain metadata, and/or events of a certain type. These events are triggered by passing a bunch to the method `HasTraits.notify_change`. So if you need to create your own kinds of events that people can listen into you need only define a bunch with a 'name' and a 'type'."
   ]
  },
  {
   "cell_type": "code",
   "execution_count": 35,
   "metadata": {
    "collapsed": false,
    "deletable": true,
    "editable": true
   },
   "outputs": [],
   "source": [
    "from traitlets import *\n",
    "class MyClass(HasTraits):\n",
    "\n",
    "    i = Int()\n",
    "    j = Unicode()\n",
    "    lst = List()\n",
    "    \n",
    "    @default(\"i\")\n",
    "    def _i_default(self):\n",
    "        \"\"\"The default value for the trait 'i' \"\"\"\n",
    "        print(\"i: generating default value\")\n",
    "        return 0\n",
    "    \n",
    "    @validate(\"i\")\n",
    "    def _i_validation(self, proposal):\n",
    "        \"\"\"A \"cross validator\" for the trait 'i' \"\"\"\n",
    "        print(\"i: cross validating %r\" % proposal.value)\n",
    "        return proposal.value\n",
    "    \n",
    "    @observe(\"i\", type=\"change\")\n",
    "    def _i_observer(self, change):\n",
    "        \"\"\"An observer for the trait 'i' \"\"\"\n",
    "        print(\"i: observed a change from %r to %r\" % (change.old, change.new))\n",
    "\n",
    "    @default(\"j\")\n",
    "    def _j_default(self):\n",
    "        \"\"\"The default value for the trait 'j' \"\"\"\n",
    "        print(\"j: generating default value\")\n",
    "        return 'This is the default value'\n",
    "    \n",
    "    @validate(\"j\")\n",
    "    def _j_validation(self, proposal):\n",
    "        \"\"\"A \"cross validator\" for the trait 'j' \"\"\"\n",
    "        print(\"j: cross validating %r\" % proposal.value)\n",
    "        return proposal.value\n",
    "    \n",
    "    @observe(\"j\", type=\"change\")\n",
    "    def _j_observer(self, change):\n",
    "        \"\"\"An observer for the trait 'j' \"\"\"\n",
    "        print(\"j: observed a change from %r to %r\" % (change.old, change.new))\n",
    "    \n",
    "    @default(\"lst\")\n",
    "    def _lst_default(self):\n",
    "        \"\"\"The default value for the trait 'i' \"\"\"\n",
    "        print(\"lst: generating default value\")\n",
    "        return []\n",
    "    \n",
    "    @validate(\"lst\")\n",
    "    def _lst_validation(self, proposal):\n",
    "        \"\"\"A \"cross validator\" for the trait 'i' \"\"\"\n",
    "        print(\"lst: cross validating %r\" % proposal.value)\n",
    "        return proposal.value\n",
    "    \n",
    "    @observe(\"lst\", type=\"change\")\n",
    "    def _lst_observer(self, change):\n",
    "        \"\"\"An observer for the trait 'i' \"\"\"\n",
    "        print(\"lst: observed a change from %r to %r\" % (change.old, change.new))\n",
    "    "
   ]
  },
  {
   "cell_type": "code",
   "execution_count": 36,
   "metadata": {
    "collapsed": false,
    "deletable": true,
    "editable": true
   },
   "outputs": [
    {
     "name": "stdout",
     "output_type": "stream",
     "text": [
      "i: generating default value\n",
      "i: cross validating 0\n",
      "got the default value 0\n",
      "-------------------------------\n",
      "mc.i get an error assigning strings\n",
      "-------------------------------\n",
      "i: cross validating 1\n",
      "i: observed a change from 0 to 1\n",
      "assigned, but no change occured\n",
      "-------------------------------\n",
      "i: cross validating 2\n",
      "i: observed a change from 1 to 2\n",
      "-------------------------------\n"
     ]
    }
   ],
   "source": [
    "mc = MyClass()\n",
    "\n",
    "print(\"got the default value %r\" % mc.i)\n",
    "print(\"-------------------------------\")\n",
    "\n",
    "try:\n",
    "    mc.i = \"1\"\n",
    "except TraitError:\n",
    "    print(\"mc.i get an error assigning strings\")\n",
    "\n",
    "print(\"-------------------------------\")\n",
    "mc.i = 1\n",
    "print(\"assigned, but no change occured\")\n",
    "\n",
    "print(\"-------------------------------\")\n",
    "mc.i = 2\n",
    "print(\"-------------------------------\")"
   ]
  },
  {
   "cell_type": "code",
   "execution_count": 37,
   "metadata": {
    "collapsed": false,
    "deletable": true,
    "editable": true
   },
   "outputs": [
    {
     "name": "stdout",
     "output_type": "stream",
     "text": [
      "j: generating default value\n",
      "j: cross validating 'This is the default value'\n",
      "got the default value 'This is the default value'\n",
      "-------------------------------\n",
      "mc.j get an error assigning ints\n",
      "-------------------------------\n",
      "j: cross validating '1'\n",
      "j: observed a change from 'This is the default value' to '1'\n",
      "assigned, but no change occured\n",
      "-------------------------------\n",
      "j: cross validating 'This is a unicode string'\n",
      "j: observed a change from '1' to 'This is a unicode string'\n",
      "-------------------------------\n"
     ]
    }
   ],
   "source": [
    "print(\"got the default value %r\" % mc.j)\n",
    "print(\"-------------------------------\")\n",
    "try:\n",
    "    mc.j = 1\n",
    "except TraitError:\n",
    "    print(\"mc.j get an error assigning ints\")\n",
    "\n",
    "print(\"-------------------------------\")\n",
    "mc.j = '1'\n",
    "print(\"assigned, but no change occured\")\n",
    "\n",
    "print(\"-------------------------------\")\n",
    "mc.j = 'This is a unicode string'\n",
    "print(\"-------------------------------\")"
   ]
  },
  {
   "cell_type": "code",
   "execution_count": 38,
   "metadata": {
    "collapsed": false,
    "deletable": true,
    "editable": true
   },
   "outputs": [
    {
     "name": "stdout",
     "output_type": "stream",
     "text": [
      "lst: generating default value\n",
      "lst: cross validating []\n",
      "got the default value []\n",
      "-------------------------------\n"
     ]
    },
    {
     "data": {
      "text/plain": [
       "[1, 2]"
      ]
     },
     "execution_count": 38,
     "metadata": {},
     "output_type": "execute_result"
    }
   ],
   "source": [
    "print(\"got the default value %r\" % mc.lst)\n",
    "print(\"-------------------------------\")\n",
    "\n",
    "mc.lst.append(1)\n",
    "mc.lst.append(2)\n",
    "mc.lst\n",
    "# try:\n",
    "#     mc.j = 1\n",
    "# except TraitError:\n",
    "#     print(\"mc.j get an error assigning ints\")\n",
    "\n",
    "# print(\"-------------------------------\")\n",
    "# mc.j = '1'\n",
    "# print(\"assigned, but no change occured\")\n",
    "\n",
    "# print(\"-------------------------------\")\n",
    "# mc.j = 'This is a unicode string'\n",
    "# print(\"-------------------------------\")"
   ]
  },
  {
   "cell_type": "code",
   "execution_count": 39,
   "metadata": {
    "collapsed": false,
    "deletable": true,
    "editable": true
   },
   "outputs": [
    {
     "name": "stdout",
     "output_type": "stream",
     "text": [
      "i: cross validating 3\n",
      "i: observed a change from 2 to 3\n",
      "caught the same change on the fly\n",
      "j: cross validating 'On the fly change'\n",
      "j: observed a change from 'This is a unicode string' to 'On the fly change'\n",
      "caught the same change on the fly\n"
     ]
    }
   ],
   "source": [
    "def on_the_fly_observer(change):\n",
    "    print(\"caught the same change on the fly\" % change)\n",
    "\n",
    "mc.observe(on_the_fly_observer, \"i\")\n",
    "mc.i = 3\n",
    "\n",
    "mc.observe(on_the_fly_observer, \"j\")\n",
    "mc.j = \"On the fly change\"\n",
    "\n",
    "mc.observe(on_the_fly_observer, \"lst\")\n",
    "mc.lst.append(3)"
   ]
  },
  {
   "cell_type": "markdown",
   "metadata": {
    "deletable": true,
    "editable": true
   },
   "source": [
    "##### From Traitlets documenttion \n",
    "http://traitlets.readthedocs.io/en/stable/migration.html#dynamic-defaults-generation-with-decorators"
   ]
  },
  {
   "cell_type": "code",
   "execution_count": 40,
   "metadata": {
    "collapsed": true,
    "deletable": true,
    "editable": true
   },
   "outputs": [],
   "source": [
    "from traitlets import HasTraits, Int, Float, default\n",
    "\n",
    "class A(HasTraits):\n",
    "    bar = Int()\n",
    "\n",
    "    @default('bar')\n",
    "    def get_bar_default(self):\n",
    "        return 11\n",
    "\n",
    "class B(A):\n",
    "    bar = Float()  # This ignores the default generator\n",
    "                   # defined in the base class A\n",
    "\n",
    "class C(B):\n",
    "\n",
    "    @default('bar')\n",
    "    def some_other_default(self):  # This should not be ignored since\n",
    "        return 3.0                 # it is defined in a class derived\n",
    "                                   # from B.a.this_class.\n"
   ]
  },
  {
   "cell_type": "code",
   "execution_count": 41,
   "metadata": {
    "collapsed": true,
    "deletable": true,
    "editable": true
   },
   "outputs": [],
   "source": [
    "from traitlets import HasTraits, TraitError, Int, Bool, validate\n",
    "\n",
    "class Parity(HasTraits):\n",
    "    value = Int()\n",
    "    parity = Int()\n",
    "\n",
    "    @validate('value')\n",
    "    def _valid_value(self, proposal):\n",
    "        if proposal['value'] % 2 != self.parity:\n",
    "            raise TraitError('value and parity should be consistent')\n",
    "        return proposal['value']\n",
    "\n",
    "    @validate('parity')\n",
    "    def _valid_parity(self, proposal):\n",
    "        parity = proposal['value']\n",
    "        if parity not in [0, 1]:\n",
    "            raise TraitError('parity should be 0 or 1')\n",
    "        if self.value % 2 != parity:\n",
    "            raise TraitError('value and parity should be consistent')\n",
    "        return proposal['value']\n",
    "\n",
    "parity_check = Parity(value=2)\n",
    "\n",
    "# Changing required parity and value together while holding cross validation\n",
    "with parity_check.hold_trait_notifications():\n",
    "    parity_check.value = 1\n",
    "    parity_check.parity = 1"
   ]
  },
  {
   "cell_type": "code",
   "execution_count": 42,
   "metadata": {
    "collapsed": true,
    "deletable": true,
    "editable": true
   },
   "outputs": [],
   "source": [
    "from traitlets import HasTraits, Unicode\n",
    "\n",
    "class Parent(HasTraits):\n",
    "    prefix = Unicode()\n",
    "    path = Unicode()\n",
    "    def _path_changed(self, name, old, new):\n",
    "        self.prefix = os.path.dirname(new)"
   ]
  },
  {
   "cell_type": "code",
   "execution_count": 43,
   "metadata": {
    "collapsed": false,
    "deletable": true,
    "editable": true
   },
   "outputs": [],
   "source": [
    "# from parent import Parent\n",
    "class Child(Parent):\n",
    "    def _path_changed(self, name, old, new):\n",
    "        super()._path_changed(name, old, new)\n",
    "        if not os.path.exists(new):\n",
    "            os.makedirs(new)"
   ]
  },
  {
   "cell_type": "code",
   "execution_count": 44,
   "metadata": {
    "collapsed": true,
    "deletable": true,
    "editable": true
   },
   "outputs": [],
   "source": [
    "from traitlets import HasTraits, Unicode, observe, observe_compat\n",
    "\n",
    "class Parent(HasTraits):\n",
    "    prefix = Unicode()\n",
    "    path = Unicode()\n",
    "\n",
    "    @observe('path')\n",
    "    @observe_compat # <- this allows super()._path_changed in subclasses to work with the old signature.\n",
    "    def _path_changed(self, change):\n",
    "        self.prefix = os.path.dirname(change['value'])"
   ]
  },
  {
   "cell_type": "code",
   "execution_count": null,
   "metadata": {
    "collapsed": true,
    "deletable": true,
    "editable": true
   },
   "outputs": [],
   "source": [
    "class TCPAddress(TraitType):\n",
    "    \"\"\"A trait for an (ip, port) tuple.\n",
    "\n",
    "    This allows for both IPv4 IP addresses as well as hostnames.\n",
    "    \"\"\"\n",
    "\n",
    "    default_value = ('127.0.0.1', 0)\n",
    "    info_text = 'an (ip, port) tuple'\n",
    "\n",
    "    def validate(self, obj, value):\n",
    "        if isinstance(value, tuple):\n",
    "            if len(value) == 2:\n",
    "                if isinstance(value[0], six.string_types) and isinstance(value[1], int):\n",
    "                    port = value[1]\n",
    "                    if port >= 0 and port <= 65535:\n",
    "                        return value\n",
    "        self.error(obj, value)"
   ]
  },
  {
   "cell_type": "code",
   "execution_count": null,
   "metadata": {
    "collapsed": true,
    "deletable": true,
    "editable": true
   },
   "outputs": [],
   "source": []
  },
  {
   "cell_type": "code",
   "execution_count": null,
   "metadata": {
    "collapsed": true,
    "deletable": true,
    "editable": true
   },
   "outputs": [],
   "source": []
  },
  {
   "cell_type": "code",
   "execution_count": null,
   "metadata": {
    "collapsed": true,
    "deletable": true,
    "editable": true
   },
   "outputs": [],
   "source": []
  },
  {
   "cell_type": "code",
   "execution_count": null,
   "metadata": {
    "collapsed": true,
    "deletable": true,
    "editable": true
   },
   "outputs": [],
   "source": []
  },
  {
   "cell_type": "code",
   "execution_count": null,
   "metadata": {
    "collapsed": true,
    "deletable": true,
    "editable": true
   },
   "outputs": [],
   "source": []
  },
  {
   "cell_type": "code",
   "execution_count": null,
   "metadata": {
    "collapsed": true,
    "deletable": true,
    "editable": true
   },
   "outputs": [],
   "source": []
  },
  {
   "cell_type": "code",
   "execution_count": null,
   "metadata": {
    "collapsed": true,
    "deletable": true,
    "editable": true
   },
   "outputs": [],
   "source": []
  },
  {
   "cell_type": "code",
   "execution_count": null,
   "metadata": {
    "collapsed": true,
    "deletable": true,
    "editable": true
   },
   "outputs": [],
   "source": []
  },
  {
   "cell_type": "code",
   "execution_count": null,
   "metadata": {
    "collapsed": true,
    "deletable": true,
    "editable": true
   },
   "outputs": [],
   "source": []
  }
 ],
 "metadata": {
  "kernelspec": {
   "display_name": "Python 3",
   "language": "python",
   "name": "python3"
  },
  "language_info": {
   "codemirror_mode": {
    "name": "ipython",
    "version": 3
   },
   "file_extension": ".py",
   "mimetype": "text/x-python",
   "name": "python",
   "nbconvert_exporter": "python",
   "pygments_lexer": "ipython3",
   "version": "3.6.1"
  }
 },
 "nbformat": 4,
 "nbformat_minor": 2
}
