{
 "cells": [
  {
   "cell_type": "code",
   "execution_count": 37,
   "metadata": {
    "collapsed": true,
    "deletable": true,
    "editable": true
   },
   "outputs": [],
   "source": [
    "from __future__ import print_function\n",
    "from traitlets.utils.descriptions import describe\n",
    "import six\n",
    "import types\n",
    "import inspect"
   ]
  },
  {
   "cell_type": "markdown",
   "metadata": {
    "deletable": true,
    "editable": true
   },
   "source": [
    "#### Decorators"
   ]
  },
  {
   "cell_type": "code",
   "execution_count": 2,
   "metadata": {
    "collapsed": true,
    "deletable": true,
    "editable": true
   },
   "outputs": [],
   "source": [
    "def my_stringify(my_function):\n",
    "    print('my_function', my_function)\n",
    "    print('entered my_stringify')\n",
    "    def my_wrapper(*args, **kwargs):\n",
    "        print('enter my_wrapper')\n",
    "        result = my_function(*args, **kwargs)\n",
    "        print('result computed')\n",
    "        return str(result)\n",
    "    print('return my_wrapper')\n",
    "    return my_wrapper"
   ]
  },
  {
   "cell_type": "code",
   "execution_count": 3,
   "metadata": {
    "collapsed": true,
    "deletable": true,
    "editable": true
   },
   "outputs": [],
   "source": [
    "def my_result(my_function):\n",
    "    print('my_function', my_function)\n",
    "    print('entered my_result')\n",
    "    def my_wrapper(*args, **kwargs):\n",
    "        print('entered my_wrapper')\n",
    "        result = my_function(*args, **kwargs)\n",
    "        print('result computed')\n",
    "        return result\n",
    "    print('return my_wrapper')\n",
    "    return my_wrapper"
   ]
  },
  {
   "cell_type": "code",
   "execution_count": 4,
   "metadata": {
    "collapsed": false,
    "deletable": true,
    "editable": true
   },
   "outputs": [
    {
     "name": "stdout",
     "output_type": "stream",
     "text": [
      "my_function <function my_square_function at 0x1096011e0>\n",
      "entered my_stringify\n",
      "return my_wrapper\n"
     ]
    }
   ],
   "source": [
    "@my_stringify\n",
    "def my_square_function(x):\n",
    "    return x**2"
   ]
  },
  {
   "cell_type": "code",
   "execution_count": 5,
   "metadata": {
    "collapsed": false,
    "deletable": true,
    "editable": true
   },
   "outputs": [
    {
     "name": "stdout",
     "output_type": "stream",
     "text": [
      "enter my_wrapper\n",
      "result computed\n"
     ]
    },
    {
     "data": {
      "text/plain": [
       "'4'"
      ]
     },
     "execution_count": 5,
     "metadata": {},
     "output_type": "execute_result"
    }
   ],
   "source": [
    "my_square_function(2)"
   ]
  },
  {
   "cell_type": "code",
   "execution_count": 6,
   "metadata": {
    "collapsed": false,
    "deletable": true,
    "editable": true
   },
   "outputs": [
    {
     "name": "stdout",
     "output_type": "stream",
     "text": [
      "my_function <function my_cube_function at 0x109601268>\n",
      "entered my_result\n",
      "return my_wrapper\n"
     ]
    }
   ],
   "source": [
    "@my_result\n",
    "def my_cube_function(x):\n",
    "    return x**3"
   ]
  },
  {
   "cell_type": "code",
   "execution_count": 7,
   "metadata": {
    "collapsed": false,
    "deletable": true,
    "editable": true,
    "scrolled": true
   },
   "outputs": [
    {
     "name": "stdout",
     "output_type": "stream",
     "text": [
      "entered my_wrapper\n",
      "result computed\n"
     ]
    },
    {
     "data": {
      "text/plain": [
       "27"
      ]
     },
     "execution_count": 7,
     "metadata": {},
     "output_type": "execute_result"
    }
   ],
   "source": [
    "my_cube_function(3)"
   ]
  },
  {
   "cell_type": "markdown",
   "metadata": {
    "deletable": true,
    "editable": true
   },
   "source": [
    "#### Descriptors"
   ]
  },
  {
   "cell_type": "code",
   "execution_count": 8,
   "metadata": {
    "collapsed": true,
    "deletable": true,
    "editable": true
   },
   "outputs": [],
   "source": [
    "class my_descriptor(object):\n",
    "    \n",
    "    def __set__(self, obj, value):\n",
    "        print(\"setting %r to %r\" % (value, obj))\n",
    "\n",
    "    def __get__(self, obj, cls):\n",
    "        print(\"getting from %r\" % obj)\n",
    "\n",
    "    def __delete__(self, obj):\n",
    "        print(\"deleting from %r\" % obj)"
   ]
  },
  {
   "cell_type": "code",
   "execution_count": 9,
   "metadata": {
    "collapsed": true,
    "deletable": true,
    "editable": true
   },
   "outputs": [],
   "source": [
    "class my_class(object):\n",
    "    my_x = my_descriptor()"
   ]
  },
  {
   "cell_type": "code",
   "execution_count": 10,
   "metadata": {
    "collapsed": false,
    "deletable": true,
    "editable": true
   },
   "outputs": [],
   "source": [
    "my_object = my_class()"
   ]
  },
  {
   "cell_type": "code",
   "execution_count": 11,
   "metadata": {
    "collapsed": false,
    "deletable": true,
    "editable": true
   },
   "outputs": [
    {
     "name": "stdout",
     "output_type": "stream",
     "text": [
      "getting from <__main__.my_class object at 0x1096240f0>\n"
     ]
    }
   ],
   "source": [
    "my_object.my_x"
   ]
  },
  {
   "cell_type": "code",
   "execution_count": 12,
   "metadata": {
    "collapsed": false,
    "deletable": true,
    "editable": true
   },
   "outputs": [
    {
     "name": "stdout",
     "output_type": "stream",
     "text": [
      "setting 5 to <__main__.my_class object at 0x1096240f0>\n"
     ]
    }
   ],
   "source": [
    "my_object.my_x = 5"
   ]
  },
  {
   "cell_type": "code",
   "execution_count": 13,
   "metadata": {
    "collapsed": false,
    "deletable": true,
    "editable": true
   },
   "outputs": [
    {
     "name": "stdout",
     "output_type": "stream",
     "text": [
      "setting 6 to <__main__.my_class object at 0x1096240f0>\n"
     ]
    }
   ],
   "source": [
    "my_object.my_x = 6"
   ]
  },
  {
   "cell_type": "code",
   "execution_count": 14,
   "metadata": {
    "collapsed": false,
    "deletable": true,
    "editable": true
   },
   "outputs": [
    {
     "name": "stdout",
     "output_type": "stream",
     "text": [
      "setting 'a value' to <__main__.my_class object at 0x1096240f0>\n"
     ]
    }
   ],
   "source": [
    "my_object.my_x = 'a value'"
   ]
  },
  {
   "cell_type": "code",
   "execution_count": 15,
   "metadata": {
    "collapsed": false,
    "deletable": true,
    "editable": true
   },
   "outputs": [
    {
     "name": "stdout",
     "output_type": "stream",
     "text": [
      "deleting from <__main__.my_class object at 0x1096240f0>\n"
     ]
    }
   ],
   "source": [
    "del my_object.my_x"
   ]
  },
  {
   "cell_type": "markdown",
   "metadata": {
    "deletable": true,
    "editable": true
   },
   "source": [
    "#### Metaclasses"
   ]
  },
  {
   "cell_type": "code",
   "execution_count": 36,
   "metadata": {
    "collapsed": false,
    "deletable": true,
    "editable": true
   },
   "outputs": [
    {
     "name": "stdout",
     "output_type": "stream",
     "text": [
      "It is True that <class 'int'> is an instance of <class 'type'>\n",
      "It is True that <class 'str'> is an instance of <class 'type'>\n",
      "It is True that <class 'bool'> is an instance of <class 'type'>\n",
      "It is True that <class 'object'> is an instance of <class 'type'>\n",
      "It is True that <class 'type'> is an instance of <class 'type'>\n"
     ]
    }
   ],
   "source": [
    "for cls in (int, str, bool, object, type):\n",
    "    print(\"It is %s that %r is an instance of %r\" % (isinstance(cls, type), cls, type))"
   ]
  },
  {
   "cell_type": "code",
   "execution_count": 17,
   "metadata": {
    "collapsed": false,
    "deletable": true,
    "editable": true
   },
   "outputs": [
    {
     "name": "stdout",
     "output_type": "stream",
     "text": [
      "type(Foobar): <class 'type'>\n",
      "foo:  <__main__.Foobar object at 0x1096272b0>\n",
      "type(foo):  <__main__.Foobar object at 0x1096272b0>\n",
      "isinstance(foo, Foobar):  True\n",
      "isinstance(Foobar, type): True\n"
     ]
    }
   ],
   "source": [
    "class Foobar:\n",
    "    pass\n",
    "\n",
    "print('type(Foobar):', type(Foobar))\n",
    "foo = Foobar()\n",
    "print('foo: ', foo)\n",
    "print('type(foo): ', foo)\n",
    "print('isinstance(foo, Foobar): ', isinstance(foo, Foobar))\n",
    "#idk why this statement is false\n",
    "print('isinstance(Foobar, type):', isinstance(Foobar, type))"
   ]
  },
  {
   "cell_type": "markdown",
   "metadata": {
    "deletable": true,
    "editable": true
   },
   "source": [
    "#### Traitlets"
   ]
  },
  {
   "cell_type": "code",
   "execution_count": 21,
   "metadata": {
    "collapsed": true,
    "deletable": true,
    "editable": true
   },
   "outputs": [],
   "source": [
    "\n",
    "\"\"\"\n",
    "__dict__: The namespace supporting arbitrary function attributes.\n",
    "\n",
    "A module object has a namespace implemented by a dictionary object \n",
    "(this is the dictionary referenced by the __globals__ attribute of \n",
    "functions defined in the module). Attribute references are translated \n",
    "to lookups in this dictionary, e.g., m.x is equivalent to m.__dict__[\"x\"].\n",
    "\n",
    "Attribute assignment updates the module’s namespace \n",
    "dictionary, e.g., m.x = 1 is equivalent to m.__dict__[\"x\"] = 1.\n",
    "\n",
    "Special read-only attribute: __dict__ is the module’s \n",
    "namespace as a dictionary object.\n",
    "\"\"\"\n",
    "class Feature(object):\n",
    "    \n",
    "    klass = None\n",
    "    \n",
    "    def class_init(self, cls, name):\n",
    "        print(\"the feature %r was assigned to %r\" % (self, name))\n",
    "        self.this_class = cls\n",
    "        self.name = name\n",
    "\n",
    "    def __set__(self, obj, value):\n",
    "        if isinstance(value, self.klass):\n",
    "            obj.__dict__[self.name] = value\n",
    "        else:\n",
    "            raise TypeError(\"Expected a %r instance, not %s\" % (self.klass, describe(\"the\", value)))\n",
    "    \n",
    "    def __get__(self, obj, cls):\n",
    "        if obj is None:\n",
    "            # this is true when accessing the attributed\n",
    "            # from the class, not instances of the class\n",
    "            return self\n",
    "        return obj.__dict__[self.name]\n",
    "    \n",
    "    def __delete__(self, obj):\n",
    "        del obj.__dict__[self.name]\n",
    "\n"
   ]
  },
  {
   "cell_type": "code",
   "execution_count": 22,
   "metadata": {
    "collapsed": true
   },
   "outputs": [],
   "source": [
    "class MetaHasFeatures(type):\n",
    "\n",
    "    def __init__(cls, name, bases, classdict):\n",
    "        print(\"creating %r\" % cls)\n",
    "        for k, v in classdict.items():\n",
    "            if isinstance(v, Feature):\n",
    "                v.class_init(cls, k)\n"
   ]
  },
  {
   "cell_type": "code",
   "execution_count": 23,
   "metadata": {
    "collapsed": false
   },
   "outputs": [
    {
     "name": "stdout",
     "output_type": "stream",
     "text": [
      "creating <class '__main__.HasFeatures'>\n"
     ]
    }
   ],
   "source": [
    "class HasFeatures(six.with_metaclass(MetaHasFeatures, object)):\n",
    "    pass"
   ]
  },
  {
   "cell_type": "code",
   "execution_count": 24,
   "metadata": {
    "collapsed": true
   },
   "outputs": [],
   "source": [
    "\"\"\"\n",
    "MyInt inherits Feature\n",
    "klass is overriden -> only accepts ints\n",
    "\"\"\"\n",
    "class MyInt(Feature):\n",
    "    # this feature only accepts ints\n",
    "    klass = int"
   ]
  },
  {
   "cell_type": "code",
   "execution_count": 25,
   "metadata": {
    "collapsed": true
   },
   "outputs": [],
   "source": [
    "\"\"\"\n",
    "MyStr inherits Feature\n",
    "klass is overriden -> only accepts ints\n",
    "\"\"\"\n",
    "class MyStr(Feature):\n",
    "    # this feature only accepts strings\n",
    "    klass = str"
   ]
  },
  {
   "cell_type": "code",
   "execution_count": 33,
   "metadata": {
    "collapsed": true
   },
   "outputs": [],
   "source": [
    "class MyBool(Feature):\n",
    "    # this feature only accepts boolean\n",
    "    klass = bool"
   ]
  },
  {
   "cell_type": "code",
   "execution_count": 41,
   "metadata": {
    "collapsed": false
   },
   "outputs": [
    {
     "name": "stdout",
     "output_type": "stream",
     "text": [
      "creating <class '__main__.MyClass'>\n",
      "the feature <__main__.MyInt object at 0x109974b70> was assigned to 'i'\n",
      "the feature <__main__.MyStr object at 0x109974e80> was assigned to 's'\n",
      "the feature <__main__.MyBool object at 0x109974e10> was assigned to 'b'\n"
     ]
    }
   ],
   "source": [
    "\"\"\"\n",
    "MyClass inherits HasFeatures\n",
    "six.with_metaclass(metaclass, *bases)\n",
    "Create a new class with base classes bases and metaclass metaclass. \n",
    "This is designed to be used in class declarations\n",
    "\"\"\"\n",
    "class MyClass(HasFeatures):\n",
    "    i = MyInt()\n",
    "    s = MyStr()\n",
    "    b = MyBool()\n",
    "mc = MyClass()"
   ]
  },
  {
   "cell_type": "code",
   "execution_count": 38,
   "metadata": {
    "collapsed": false
   },
   "outputs": [
    {
     "name": "stdout",
     "output_type": "stream",
     "text": [
      "-------------------------------\n",
      "assigned the value 1\n",
      "-------------------------------\n",
      "assigned the value i = 1\n",
      "-------------------------------\n",
      "assigned the value True\n",
      "-------------------------------\n",
      "get 1 from <__main__.MyClass object at 0x109627630>\n",
      "-------------------------------\n",
      "get i = 1 from <__main__.MyClass object at 0x109627630>\n",
      "-------------------------------\n",
      "get True from <__main__.MyClass object at 0x109627630>\n"
     ]
    }
   ],
   "source": [
    "\n",
    "\n",
    "# try:\n",
    "#     mc.i = 1\n",
    "# except Exception as e:\n",
    "#     print(e)\n",
    "\n",
    "# try:\n",
    "#     mc.s = \"i = 1\"\n",
    "# except Exception as e:\n",
    "#     print(e)\n",
    "    \n",
    "# try:\n",
    "#     mc.b = True\n",
    "# except Exception as e:\n",
    "#     print(e)\n"
   ]
  },
  {
   "cell_type": "code",
   "execution_count": 42,
   "metadata": {
    "collapsed": false
   },
   "outputs": [
    {
     "name": "stdout",
     "output_type": "stream",
     "text": [
      "-------------------------------\n",
      "assigned the value 1\n",
      "-------------------------------\n",
      "assigned the value i = 1\n",
      "-------------------------------\n",
      "assigned the value True\n"
     ]
    }
   ],
   "source": [
    "print(\"-------------------------------\")\n",
    "mc.i = 1\n",
    "print(\"assigned the value %r\" % 1)\n",
    "\n",
    "print(\"-------------------------------\")\n",
    "mc.s = \"i = 1\"\n",
    "print(\"assigned the value %s\" % \"i = 1\")\n",
    "\n",
    "print(\"-------------------------------\")\n",
    "mc.b = True\n",
    "print(\"assigned the value %r\" % True)"
   ]
  },
  {
   "cell_type": "code",
   "execution_count": 43,
   "metadata": {
    "collapsed": false
   },
   "outputs": [
    {
     "name": "stdout",
     "output_type": "stream",
     "text": [
      "-------------------------------\n",
      "get 1 from <__main__.MyClass object at 0x109974f28>\n",
      "-------------------------------\n",
      "get i = 1 from <__main__.MyClass object at 0x109974f28>\n",
      "-------------------------------\n",
      "get True from <__main__.MyClass object at 0x109974f28>\n"
     ]
    }
   ],
   "source": [
    "print(\"-------------------------------\")\n",
    "print(\"get %r from %r\" % (mc.i, mc))\n",
    "print(\"-------------------------------\")\n",
    "print(\"get %s from %r\" % (mc.s, mc))\n",
    "print(\"-------------------------------\")\n",
    "print(\"get %r from %r\" % (mc.b, mc))"
   ]
  },
  {
   "cell_type": "markdown",
   "metadata": {},
   "source": [
    "#### Let's go back to decorators..."
   ]
  },
  {
   "cell_type": "markdown",
   "metadata": {},
   "source": [
    "A `BaseDecorator` object. When called, it must still act like a method."
   ]
  },
  {
   "cell_type": "code",
   "execution_count": 50,
   "metadata": {
    "collapsed": true
   },
   "outputs": [],
   "source": [
    "class BaseDecorator(object):\n",
    "\n",
    "    def __init__(self, name, method):\n",
    "        print('__init__')\n",
    "        self.feature_name = name\n",
    "        self.method = method\n",
    "    \n",
    "    def __call__(self, *args, **kwargs):\n",
    "        print('__call__')\n",
    "        return self.method(*args, **kwargs)\n",
    "    \n",
    "    def __get__(self, obj, cls):\n",
    "        print('__get__')\n",
    "        if obj is None:\n",
    "            return self\n",
    "        return types.MethodType(self.method, obj)"
   ]
  },
  {
   "cell_type": "markdown",
   "metadata": {},
   "source": [
    "An `observe` decorator. Wraps a method in an `Observer` object."
   ]
  },
  {
   "cell_type": "code",
   "execution_count": 52,
   "metadata": {
    "collapsed": true
   },
   "outputs": [],
   "source": [
    "def observe(name):\n",
    "    print('observe decorator')\n",
    "    def setup(method):\n",
    "        print('observe decorator setup')\n",
    "        return Observer(name, method)\n",
    "    return setup"
   ]
  },
  {
   "cell_type": "markdown",
   "metadata": {},
   "source": [
    "An `Observer` object. After the instance is created it must register itself as an observer."
   ]
  },
  {
   "cell_type": "code",
   "execution_count": 53,
   "metadata": {
    "collapsed": false
   },
   "outputs": [
    {
     "name": "stdout",
     "output_type": "stream",
     "text": [
      "class Observer\n"
     ]
    }
   ],
   "source": [
    "class Observer(BaseDecorator):\n",
    "    print('class Observer')\n",
    "    def instance_init(self, obj):\n",
    "        print('instance_init')\n",
    "        obj.observe(self, self.feature_name)\n",
    "        print('obj.observe')"
   ]
  },
  {
   "cell_type": "markdown",
   "metadata": {},
   "source": [
    "An `OtherFeature` descriptor. It will notify its owner whenever a value changes"
   ]
  },
  {
   "cell_type": "code",
   "execution_count": 48,
   "metadata": {
    "collapsed": true
   },
   "outputs": [],
   "source": [
    "class OtherFeature(Feature):\n",
    "    \n",
    "    def __set__(self, obj, new):\n",
    "        old = obj.__dict__.get(self.name, None)\n",
    "        super(OtherFeature, self).__set__(obj, new)\n",
    "        if new != old:\n",
    "            data = dict(old=old, new=new, name=self.name, owner=obj)\n",
    "            obj.notify(data)"
   ]
  },
  {
   "cell_type": "markdown",
   "metadata": {},
   "source": [
    "A new `HasOtherFeatures` class. \n",
    "\n",
    "It will find `BaseObservers` and call their `instance_init` methods so they can register themselves Offer a method `observe` that will register observers Offer a `notify` which will be used to pass change data to observers."
   ]
  },
  {
   "cell_type": "code",
   "execution_count": 49,
   "metadata": {
    "collapsed": false
   },
   "outputs": [
    {
     "name": "stdout",
     "output_type": "stream",
     "text": [
      "creating <class '__main__.HasOtherFeatures'>\n"
     ]
    }
   ],
   "source": [
    "class HasOtherFeatures(HasFeatures):\n",
    "\n",
    "    def __init__(self):\n",
    "        self._observers = {}\n",
    "        self.setup()\n",
    "    \n",
    "    def setup(self):\n",
    "        for k, v in inspect.getmembers(type(self)):\n",
    "            if isinstance(v, BaseDecorator):\n",
    "                v.instance_init(self)\n",
    "    \n",
    "    def observe(self, handler, name):\n",
    "        if name in self._observers:\n",
    "            olist = self._observers[name]\n",
    "        else:\n",
    "            olist = []\n",
    "            self._observers[name] = olist\n",
    "        if handler not in olist:\n",
    "            olist.append(handler)\n",
    "    \n",
    "    def notify(self, data):\n",
    "        for o in self._observers.get(data[\"name\"], []):\n",
    "            if isinstance(o, BaseDecorator):\n",
    "                o(self, data)\n",
    "            else:\n",
    "                o(data)"
   ]
  },
  {
   "cell_type": "code",
   "execution_count": null,
   "metadata": {
    "collapsed": true
   },
   "outputs": [],
   "source": []
  }
 ],
 "metadata": {
  "kernelspec": {
   "display_name": "Python 3",
   "language": "python",
   "name": "python3"
  },
  "language_info": {
   "codemirror_mode": {
    "name": "ipython",
    "version": 3
   },
   "file_extension": ".py",
   "mimetype": "text/x-python",
   "name": "python",
   "nbconvert_exporter": "python",
   "pygments_lexer": "ipython3",
   "version": "3.6.1"
  }
 },
 "nbformat": 4,
 "nbformat_minor": 2
}
