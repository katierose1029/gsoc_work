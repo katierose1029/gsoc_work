{
 "cells": [
  {
   "cell_type": "markdown",
   "metadata": {
    "deletable": true,
    "editable": true
   },
   "source": [
    "### My Descriptors Example"
   ]
  },
  {
   "cell_type": "code",
   "execution_count": 1,
   "metadata": {
    "collapsed": true,
    "deletable": true,
    "editable": true
   },
   "outputs": [],
   "source": [
    "from traitlets import HasDescriptors, BaseDescriptor, HasTraits, TraitType"
   ]
  },
  {
   "cell_type": "code",
   "execution_count": 2,
   "metadata": {
    "collapsed": true,
    "deletable": true,
    "editable": true
   },
   "outputs": [],
   "source": [
    "#create descriptor that will set a defaut value only on\n",
    "#instances of MyClass\n",
    "class MyBaseClass(HasDescriptors):\n",
    "    def __init__(self):\n",
    "        print(\"__init__ MyBaseClass\")\n",
    "        self._data = {}\n",
    "        print(\"self._data: \", self._data)"
   ]
  },
  {
   "cell_type": "code",
   "execution_count": 3,
   "metadata": {
    "collapsed": false,
    "deletable": true,
    "editable": true
   },
   "outputs": [
    {
     "name": "stdout",
     "output_type": "stream",
     "text": [
      "MyDescriptor\n"
     ]
    }
   ],
   "source": [
    "class MyDescriptor(BaseDescriptor):\n",
    "    print(\"MyDescriptor\")\n",
    "    \n",
    "    #init initailizes the descriptor obj\n",
    "    def __init__(self, default):\n",
    "        print(\"__init__ MyDescriptor\")\n",
    "        self.default_value = default\n",
    "        \n",
    "    #pass the class and name in which the descriptor lives in \n",
    "    def class_init(self, cls, name):\n",
    "        print(\"class_init MyDescriptor\")\n",
    "#         self.this_class = cls\n",
    "#         self.name = name\n",
    "        #line from gsoc-stale-pchanged\n",
    "        super(MyDescriptor, self).class_init(cls, name)\n",
    "        print(\"self.this_class: \", self.this_class)\n",
    "        print(\"self.name: \", self.name)\n",
    "        \n",
    "    #cls is the child class \n",
    "    def subclass_init(self, cls):\n",
    "        print(\"subclass_init MyDescriptor\")\n",
    "        pass\n",
    "#         class_init(cls)\n",
    "       \n",
    "    #obj is the instance being created \n",
    "    def instance_init(self, obj):\n",
    "        print(\"instance_init MyDescriptor\")\n",
    "        if isinstance(obj, type):\n",
    "            print(\"isinstance: \", isinstance(obj, type))\n",
    "            obj._data[self.name] = self.default_value"
   ]
  },
  {
   "cell_type": "code",
   "execution_count": 4,
   "metadata": {
    "collapsed": false,
    "deletable": true,
    "editable": true
   },
   "outputs": [
    {
     "name": "stdout",
     "output_type": "stream",
     "text": [
      "MyClass\n",
      "__init__ MyDescriptor\n",
      "MyDescriptor:  <__main__.MyDescriptor object at 0x10d995e10>\n",
      "class_init MyDescriptor\n",
      "self.this_class:  <class '__main__.MyClass'>\n",
      "self.name:  d\n",
      "\n",
      "------------------------------------------------------------------\n",
      "\n",
      "MySubClass\n",
      "__init__ MyDescriptor\n",
      "MyDescriptor:  <__main__.MyDescriptor object at 0x10d995d30>\n",
      "class_init MyDescriptor\n",
      "self.this_class:  <class '__main__.MySubclass'>\n",
      "self.name:  a\n"
     ]
    }
   ],
   "source": [
    "class MyClass(MyBaseClass):\n",
    "    print(\"MyClass\")\n",
    "    # put the descriptor here\n",
    "    d = MyDescriptor(\"default\")\n",
    "    print(\"MyDescriptor: \", d)\n",
    "    \n",
    "print(\"\")\n",
    "print(\"------------------------------------------------------------------\")\n",
    "print(\"\")\n",
    "\n",
    "class MySubclass(MyClass):\n",
    "    print(\"MySubClass\")\n",
    "#     d = MyDescriptor(\"subclass default\")\n",
    "#     print(\"MyDescriptor: \", d)\n",
    "    a = MyDescriptor(\"subclass default\")\n",
    "    print(\"MyDescriptor: \", a)"
   ]
  },
  {
   "cell_type": "code",
   "execution_count": 5,
   "metadata": {
    "collapsed": false,
    "deletable": true,
    "editable": true
   },
   "outputs": [
    {
     "name": "stdout",
     "output_type": "stream",
     "text": [
      "instance_init MyDescriptor\n",
      "__init__ MyBaseClass\n",
      "self._data:  {}\n",
      "b:  <__main__.MyClass object at 0x10d995a90>\n",
      "b.d:  <__main__.MyDescriptor object at 0x10d995e10>\n"
     ]
    }
   ],
   "source": [
    "b = MyClass()\n",
    "print(\"b: \", b)\n",
    "print(\"b.d: \", b.d)"
   ]
  },
  {
   "cell_type": "code",
   "execution_count": 6,
   "metadata": {
    "collapsed": false,
    "deletable": true,
    "editable": true
   },
   "outputs": [
    {
     "name": "stdout",
     "output_type": "stream",
     "text": [
      "instance_init MyDescriptor\n",
      "instance_init MyDescriptor\n",
      "__init__ MyBaseClass\n",
      "self._data:  {}\n",
      "c:  <__main__.MySubclass object at 0x10dc1a400>\n",
      "c.d:  <__main__.MyDescriptor object at 0x10d995e10>\n",
      "c.a:  <__main__.MyDescriptor object at 0x10d995d30>\n"
     ]
    }
   ],
   "source": [
    "c = MySubclass()\n",
    "print(\"c: \", c)\n",
    "print(\"c.d: \", c.d)\n",
    "print(\"c.a: \", c.a)"
   ]
  },
  {
   "cell_type": "markdown",
   "metadata": {
    "deletable": true,
    "editable": true
   },
   "source": [
    "Note: I noticed how subclass_init is not being called"
   ]
  },
  {
   "cell_type": "code",
   "execution_count": 7,
   "metadata": {
    "collapsed": true,
    "deletable": true,
    "editable": true
   },
   "outputs": [],
   "source": [
    "class TraitProxy(TraitType):\n",
    "\n",
    "    def __init__(self, trait):\n",
    "        print(\"__init__\")\n",
    "        self.__trait = trait\n",
    "        print(\"self: \", self)\n",
    "\n",
    "    def instance_init(self, obj):\n",
    "        print(\"instance_init\")\n",
    "        self.__trait.instance_init(obj)\n",
    "        print(\"self: \", self)\n",
    "\n",
    "    def class_init(self, cls, name):\n",
    "        print(\"class_init\")\n",
    "        self.__trait.class_init(cls, name)\n",
    "        print(\"self: \", self)\n",
    "\n",
    "    def set(self, obj, val):\n",
    "        print(\"set\")\n",
    "        self.__trait.set(obj, val)\n",
    "        print(\"self: \", self)\n",
    "\n",
    "    def get(self, obj, cls):\n",
    "        print(\"get\")\n",
    "        return self.__trait.get(obj, cls)\n",
    "\n",
    "    def __getattr__(self, name):\n",
    "        print(\"__getattr__\")\n",
    "        return getattr(self.__trait, name)"
   ]
  },
  {
   "cell_type": "code",
   "execution_count": 8,
   "metadata": {
    "collapsed": true,
    "deletable": true,
    "editable": true
   },
   "outputs": [],
   "source": [
    "class Perishable(TraitProxy):\n",
    "\n",
    "    def set(self, obj, val):\n",
    "        super(Perishable, self).set(obj, val)\n",
    "        obj.stale = True"
   ]
  },
  {
   "cell_type": "code",
   "execution_count": null,
   "metadata": {
    "collapsed": true,
    "deletable": true,
    "editable": true
   },
   "outputs": [],
   "source": [
    "p = Perishable"
   ]
  },
  {
   "cell_type": "code",
   "execution_count": null,
   "metadata": {
    "collapsed": false,
    "deletable": true,
    "editable": true
   },
   "outputs": [],
   "source": [
    "p"
   ]
  },
  {
   "cell_type": "code",
   "execution_count": null,
   "metadata": {
    "collapsed": false,
    "deletable": true,
    "editable": true
   },
   "outputs": [],
   "source": [
    "from traitlets import Int"
   ]
  },
  {
   "cell_type": "code",
   "execution_count": null,
   "metadata": {
    "collapsed": true,
    "deletable": true,
    "editable": true
   },
   "outputs": [],
   "source": []
  }
 ],
 "metadata": {
  "kernelspec": {
   "display_name": "Python 3",
   "language": "python",
   "name": "python3"
  },
  "language_info": {
   "codemirror_mode": {
    "name": "ipython",
    "version": 3
   },
   "file_extension": ".py",
   "mimetype": "text/x-python",
   "name": "python",
   "nbconvert_exporter": "python",
   "pygments_lexer": "ipython3",
   "version": "3.6.1"
  }
 },
 "nbformat": 4,
 "nbformat_minor": 2
}
