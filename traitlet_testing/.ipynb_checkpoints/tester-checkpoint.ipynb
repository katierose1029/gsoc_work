{
 "cells": [
  {
   "cell_type": "code",
   "execution_count": 1,
   "metadata": {},
   "outputs": [],
   "source": [
    "import getpass\n",
    "from traitlets import HasTraits, Unicode, default, Int, observe\n",
    "\n",
    "class Identity(HasTraits):\n",
    "    username = Unicode()\n",
    "\n",
    "    @default('username')\n",
    "    def _username_default(self):\n",
    "        return getpass.getuser()\n"
   ]
  },
  {
   "cell_type": "code",
   "execution_count": 2,
   "metadata": {},
   "outputs": [
    {
     "data": {
      "text/plain": [
       "'katie'"
      ]
     },
     "execution_count": 2,
     "metadata": {},
     "output_type": "execute_result"
    }
   ],
   "source": [
    "myname = Identity\n",
    "myname\n",
    "myname.username='katie'\n",
    "myname.username"
   ]
  },
  {
   "cell_type": "code",
   "execution_count": 3,
   "metadata": {},
   "outputs": [],
   "source": [
    "# class Foo(HasTraits):\n",
    "#     bar = Int()\n",
    "# # foo = Foo(bar='3')\n",
    "# foo = Foo(bar=3)\n",
    "# print(foo)\n",
    "# print(foo.bar)"
   ]
  },
  {
   "cell_type": "code",
   "execution_count": 4,
   "metadata": {},
   "outputs": [
    {
     "name": "stdout",
     "output_type": "stream",
     "text": [
      "0\n",
      "3\n",
      "3\n",
      "5\n",
      "5\n",
      "6\n"
     ]
    },
    {
     "data": {
      "text/plain": [
       "6"
      ]
     },
     "execution_count": 4,
     "metadata": {},
     "output_type": "execute_result"
    }
   ],
   "source": [
    "class Foo(HasTraits):\n",
    "    bar = Int()\n",
    "    baz = Unicode()\n",
    "\n",
    "    @observe('bar')\n",
    "    def _observe_bar(self, change):\n",
    "        print(change['old'])\n",
    "        print(change['new'])\n",
    "\n",
    "        \n",
    "foo = Foo(bar=3, baz='4')\n",
    "foo.bar=5\n",
    "foo.bar\n",
    "foo.bar=6\n",
    "foo.bar"
   ]
  },
  {
   "cell_type": "code",
   "execution_count": 5,
   "metadata": {
    "collapsed": true
   },
   "outputs": [],
   "source": [
    "from traitlets import HasTraits, TraitError, Int, Bool, validate\n",
    "\n",
    "class Parity(HasTraits):\n",
    "    value = Int()\n",
    "    parity = Int()\n",
    "\n",
    "    @validate('value')\n",
    "    def _valid_value(self, proposal):\n",
    "        if proposal['value'] % 2 != self.parity:\n",
    "            raise TraitError('value and parity should be consistent')\n",
    "        return proposal['value']\n",
    "\n",
    "    @validate('parity')\n",
    "    def _valid_parity(self, proposal):\n",
    "        parity = proposal['value']\n",
    "        if parity not in [0, 1]:\n",
    "            raise TraitError('parity should be 0 or 1')\n",
    "        if self.value % 2 != parity:\n",
    "            raise TraitError('value and parity should be consistent')\n",
    "        return proposal['value']\n",
    "\n",
    "parity_check = Parity(value=2)\n",
    "\n",
    "# Changing required parity and value together while holding cross validation\n",
    "with parity_check.hold_trait_notifications():\n",
    "    parity_check.value = 1\n",
    "    parity_check.parity = 1\n"
   ]
  },
  {
   "cell_type": "markdown",
   "metadata": {},
   "source": [
    "Definition for TCPAddress Trait\n",
    "A trait for an (ip, port) tuple. \n",
    "This allows for both IPv4 IP addresses as well as hostnames."
   ]
  },
  {
   "cell_type": "code",
   "execution_count": null,
   "metadata": {
    "collapsed": true
   },
   "outputs": [],
   "source": [
    "class TCPAddress(TraitType):\n",
    "    \"\"\"A trait for an (ip, port) tuple.\n",
    "\n",
    "    This allows for both IPv4 IP addresses as well as hostnames.\n",
    "    \"\"\"\n",
    "\n",
    "    default_value = ('127.0.0.1', 0)\n",
    "    info_text = 'an (ip, port) tuple'\n",
    "\n",
    "    def validate(self, obj, value):\n",
    "        if isinstance(value, tuple):\n",
    "            if len(value) == 2:\n",
    "                if isinstance(value[0], six.string_types) and isinstance(value[1], int):\n",
    "                    port = value[1]\n",
    "                    if port >= 0 and port <= 65535:\n",
    "                        return value\n",
    "        self.error(obj, value)"
   ]
  },
  {
   "cell_type": "markdown",
   "metadata": {},
   "source": [
    "Any clas with trait attributes must inherit HasTraits"
   ]
  },
  {
   "cell_type": "code",
   "execution_count": null,
   "metadata": {
    "collapsed": true
   },
   "outputs": [],
   "source": [
    "from traitlets import HasTraits, Int, Unicode\n",
    "\n",
    "class Requester(HasTraits):\n",
    "    url = Unicode()\n",
    "    timeout = Int(30)  # 30 will be the default value"
   ]
  },
  {
   "cell_type": "markdown",
   "metadata": {},
   "source": [
    "traitlets.default(name)\n",
    "A decorator which assigns a dynamic default for a Trait on a HasTraits object\n",
    "\n",
    "Unlike observers and validators which are properties of the HasTraits instance, default value generators are class-level properties.\n",
    "\n",
    "Besides, default generators are only invoked if they are registered in subclasses of this_type.\n",
    "\n",
    "\n",
    "\n",
    "\n"
   ]
  },
  {
   "cell_type": "code",
   "execution_count": null,
   "metadata": {},
   "outputs": [],
   "source": [
    "class A(HasTraits):\n",
    "    bar = Int()\n",
    "\n",
    "    @default('bar')\n",
    "    def get_bar_default(self):\n",
    "        return 11\n",
    "\n",
    "class B(A):\n",
    "    bar = Float()  # This trait ignores the default generator defined in\n",
    "                   # the base class A\n",
    "\n",
    "\n",
    "class C(B):\n",
    "\n",
    "    @default('bar')\n",
    "    def some_other_default(self):  # This default generator should not be\n",
    "        return 3.0                 # ignored since it is defined in a\n",
    "                                   # class derived from B.a.this_class."
   ]
  }
 ],
 "metadata": {
  "kernelspec": {
   "display_name": "Python 3",
   "language": "python",
   "name": "python3"
  },
  "language_info": {
   "codemirror_mode": {
    "name": "ipython",
    "version": 3
   },
   "file_extension": ".py",
   "mimetype": "text/x-python",
   "name": "python",
   "nbconvert_exporter": "python",
   "pygments_lexer": "ipython3",
   "version": "3.6.0"
  }
 },
 "nbformat": 4,
 "nbformat_minor": 2
}
