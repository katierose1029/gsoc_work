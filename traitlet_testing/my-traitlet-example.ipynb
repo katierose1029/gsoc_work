{
 "cells": [
  {
   "cell_type": "code",
   "execution_count": 36,
   "metadata": {
    "collapsed": true,
    "deletable": true,
    "editable": true
   },
   "outputs": [],
   "source": [
    "from __future__ import print_function\n",
    "from traitlets.utils.descriptions import describe\n",
    "import six\n",
    "import types\n",
    "import inspect\n",
    "import functools\n",
    "from traitlets import *"
   ]
  },
  {
   "cell_type": "markdown",
   "metadata": {
    "deletable": true,
    "editable": true
   },
   "source": [
    "#### Decorators"
   ]
  },
  {
   "cell_type": "code",
   "execution_count": 37,
   "metadata": {
    "collapsed": true,
    "deletable": true,
    "editable": true
   },
   "outputs": [],
   "source": [
    "def my_stringify(my_function):\n",
    "    print('my_function', my_function)\n",
    "    print('entered my_stringify')\n",
    "    def my_wrapper(*args, **kwargs):\n",
    "        print('enter my_wrapper')\n",
    "        result = my_function(*args, **kwargs)\n",
    "        print('result computed')\n",
    "        return str(result)\n",
    "    print('return my_wrapper')\n",
    "    return my_wrapper"
   ]
  },
  {
   "cell_type": "code",
   "execution_count": 38,
   "metadata": {
    "collapsed": true,
    "deletable": true,
    "editable": true
   },
   "outputs": [],
   "source": [
    "def my_result(my_function):\n",
    "    print('my_function', my_function)\n",
    "    print('entered my_result')\n",
    "    def my_wrapper(*args, **kwargs):\n",
    "        print('entered my_wrapper')\n",
    "        result = my_function(*args, **kwargs)\n",
    "        print('result computed')\n",
    "        return result\n",
    "    print('return my_wrapper')\n",
    "    return my_wrapper"
   ]
  },
  {
   "cell_type": "code",
   "execution_count": 39,
   "metadata": {
    "collapsed": false,
    "deletable": true,
    "editable": true
   },
   "outputs": [
    {
     "name": "stdout",
     "output_type": "stream",
     "text": [
      "my_function <function my_square_function at 0x10e2ff048>\n",
      "entered my_stringify\n",
      "return my_wrapper\n"
     ]
    }
   ],
   "source": [
    "@my_stringify\n",
    "def my_square_function(x):\n",
    "    return x**2"
   ]
  },
  {
   "cell_type": "code",
   "execution_count": 40,
   "metadata": {
    "collapsed": false,
    "deletable": true,
    "editable": true
   },
   "outputs": [
    {
     "name": "stdout",
     "output_type": "stream",
     "text": [
      "enter my_wrapper\n",
      "result computed\n"
     ]
    },
    {
     "data": {
      "text/plain": [
       "'4'"
      ]
     },
     "execution_count": 40,
     "metadata": {},
     "output_type": "execute_result"
    }
   ],
   "source": [
    "my_square_function(2)"
   ]
  },
  {
   "cell_type": "code",
   "execution_count": 41,
   "metadata": {
    "collapsed": false,
    "deletable": true,
    "editable": true
   },
   "outputs": [
    {
     "name": "stdout",
     "output_type": "stream",
     "text": [
      "my_function <function my_cube_function at 0x10e2ff1e0>\n",
      "entered my_result\n",
      "return my_wrapper\n"
     ]
    }
   ],
   "source": [
    "@my_result\n",
    "def my_cube_function(x):\n",
    "    return x**3"
   ]
  },
  {
   "cell_type": "code",
   "execution_count": 42,
   "metadata": {
    "collapsed": false,
    "deletable": true,
    "editable": true,
    "scrolled": true
   },
   "outputs": [
    {
     "name": "stdout",
     "output_type": "stream",
     "text": [
      "entered my_wrapper\n",
      "result computed\n"
     ]
    },
    {
     "data": {
      "text/plain": [
       "27"
      ]
     },
     "execution_count": 42,
     "metadata": {},
     "output_type": "execute_result"
    }
   ],
   "source": [
    "my_cube_function(3)"
   ]
  },
  {
   "cell_type": "markdown",
   "metadata": {
    "deletable": true,
    "editable": true
   },
   "source": [
    "#### Descriptors"
   ]
  },
  {
   "cell_type": "code",
   "execution_count": 43,
   "metadata": {
    "collapsed": true,
    "deletable": true,
    "editable": true
   },
   "outputs": [],
   "source": [
    "class my_descriptor(object):\n",
    "    \n",
    "    def __set__(self, obj, value):\n",
    "        print(\"setting %r to %r\" % (value, obj))\n",
    "\n",
    "    def __get__(self, obj, cls):\n",
    "        print(\"getting from %r\" % obj)\n",
    "\n",
    "    def __delete__(self, obj):\n",
    "        print(\"deleting from %r\" % obj)"
   ]
  },
  {
   "cell_type": "code",
   "execution_count": 44,
   "metadata": {
    "collapsed": true,
    "deletable": true,
    "editable": true
   },
   "outputs": [],
   "source": [
    "class my_class(object):\n",
    "    my_x = my_descriptor()"
   ]
  },
  {
   "cell_type": "code",
   "execution_count": 45,
   "metadata": {
    "collapsed": false,
    "deletable": true,
    "editable": true
   },
   "outputs": [],
   "source": [
    "my_object = my_class()"
   ]
  },
  {
   "cell_type": "code",
   "execution_count": 46,
   "metadata": {
    "collapsed": false,
    "deletable": true,
    "editable": true
   },
   "outputs": [
    {
     "name": "stdout",
     "output_type": "stream",
     "text": [
      "getting from <__main__.my_class object at 0x10e3035f8>\n"
     ]
    }
   ],
   "source": [
    "my_object.my_x"
   ]
  },
  {
   "cell_type": "code",
   "execution_count": 47,
   "metadata": {
    "collapsed": false,
    "deletable": true,
    "editable": true
   },
   "outputs": [
    {
     "name": "stdout",
     "output_type": "stream",
     "text": [
      "setting 5 to <__main__.my_class object at 0x10e3035f8>\n"
     ]
    }
   ],
   "source": [
    "my_object.my_x = 5"
   ]
  },
  {
   "cell_type": "code",
   "execution_count": 48,
   "metadata": {
    "collapsed": false,
    "deletable": true,
    "editable": true
   },
   "outputs": [
    {
     "name": "stdout",
     "output_type": "stream",
     "text": [
      "setting 6 to <__main__.my_class object at 0x10e3035f8>\n"
     ]
    }
   ],
   "source": [
    "my_object.my_x = 6"
   ]
  },
  {
   "cell_type": "code",
   "execution_count": 49,
   "metadata": {
    "collapsed": false,
    "deletable": true,
    "editable": true
   },
   "outputs": [
    {
     "name": "stdout",
     "output_type": "stream",
     "text": [
      "setting 'a value' to <__main__.my_class object at 0x10e3035f8>\n"
     ]
    }
   ],
   "source": [
    "my_object.my_x = 'a value'"
   ]
  },
  {
   "cell_type": "code",
   "execution_count": 50,
   "metadata": {
    "collapsed": false,
    "deletable": true,
    "editable": true
   },
   "outputs": [
    {
     "name": "stdout",
     "output_type": "stream",
     "text": [
      "deleting from <__main__.my_class object at 0x10e3035f8>\n"
     ]
    }
   ],
   "source": [
    "del my_object.my_x"
   ]
  },
  {
   "cell_type": "markdown",
   "metadata": {
    "deletable": true,
    "editable": true
   },
   "source": [
    "#### Metaclasses"
   ]
  },
  {
   "cell_type": "code",
   "execution_count": 51,
   "metadata": {
    "collapsed": false,
    "deletable": true,
    "editable": true
   },
   "outputs": [
    {
     "name": "stdout",
     "output_type": "stream",
     "text": [
      "It is True that <class 'int'> is an instance of <class 'type'>\n",
      "It is True that <class 'str'> is an instance of <class 'type'>\n",
      "It is True that <class 'bool'> is an instance of <class 'type'>\n",
      "It is True that <class 'object'> is an instance of <class 'type'>\n",
      "It is True that <class 'type'> is an instance of <class 'type'>\n"
     ]
    }
   ],
   "source": [
    "for cls in (int, str, bool, object, type):\n",
    "    print(\"It is %s that %r is an instance of %r\" % (isinstance(cls, type), cls, type))"
   ]
  },
  {
   "cell_type": "code",
   "execution_count": 52,
   "metadata": {
    "collapsed": false,
    "deletable": true,
    "editable": true
   },
   "outputs": [
    {
     "name": "stdout",
     "output_type": "stream",
     "text": [
      "type(Foobar): <class 'type'>\n",
      "foo:  <__main__.Foobar object at 0x10e0088d0>\n",
      "type(foo):  <__main__.Foobar object at 0x10e0088d0>\n",
      "isinstance(foo, Foobar):  True\n",
      "isinstance(Foobar, type): True\n"
     ]
    }
   ],
   "source": [
    "class Foobar:\n",
    "    pass\n",
    "\n",
    "print('type(Foobar):', type(Foobar))\n",
    "foo = Foobar()\n",
    "print('foo: ', foo)\n",
    "print('type(foo): ', foo)\n",
    "print('isinstance(foo, Foobar): ', isinstance(foo, Foobar))\n",
    "#idk why this statement is false\n",
    "print('isinstance(Foobar, type):', isinstance(Foobar, type))"
   ]
  },
  {
   "cell_type": "code",
   "execution_count": 53,
   "metadata": {
    "collapsed": true,
    "deletable": true,
    "editable": true
   },
   "outputs": [],
   "source": [
    "\n",
    "\"\"\"\n",
    "__dict__: The namespace supporting arbitrary function attributes.\n",
    "\n",
    "A module object has a namespace implemented by a dictionary object \n",
    "(this is the dictionary referenced by the __globals__ attribute of \n",
    "functions defined in the module). Attribute references are translated \n",
    "to lookups in this dictionary, e.g., m.x is equivalent to m.__dict__[\"x\"].\n",
    "\n",
    "Attribute assignment updates the module’s namespace \n",
    "dictionary, e.g., m.x = 1 is equivalent to m.__dict__[\"x\"] = 1.\n",
    "\n",
    "Special read-only attribute: __dict__ is the module’s \n",
    "namespace as a dictionary object.\n",
    "\"\"\"\n",
    "class Feature(object):\n",
    "    \n",
    "    klass = None\n",
    "    \n",
    "    def class_init(self, cls, name):\n",
    "        print(\"the feature %r was assigned to %r\" % (self, name))\n",
    "        self.this_class = cls\n",
    "        self.name = name\n",
    "\n",
    "    def __set__(self, obj, value):\n",
    "        if isinstance(value, self.klass):\n",
    "            obj.__dict__[self.name] = value\n",
    "        else:\n",
    "            raise TypeError(\"Expected a %r instance, not %s\" % (self.klass, describe(\"the\", value)))\n",
    "    \n",
    "    def __get__(self, obj, cls):\n",
    "        if obj is None:\n",
    "            # this is true when accessing the attributed\n",
    "            # from the class, not instances of the class\n",
    "            return self\n",
    "        return obj.__dict__[self.name]\n",
    "    \n",
    "    def __delete__(self, obj):\n",
    "        del obj.__dict__[self.name]\n",
    "\n"
   ]
  },
  {
   "cell_type": "code",
   "execution_count": 54,
   "metadata": {
    "collapsed": true,
    "deletable": true,
    "editable": true
   },
   "outputs": [],
   "source": [
    "class MetaHasFeatures(type):\n",
    "\n",
    "    def __init__(cls, name, bases, classdict):\n",
    "        print(\"creating %r\" % cls)\n",
    "        for k, v in classdict.items():\n",
    "            if isinstance(v, Feature):\n",
    "                v.class_init(cls, k)\n"
   ]
  },
  {
   "cell_type": "code",
   "execution_count": 55,
   "metadata": {
    "collapsed": false,
    "deletable": true,
    "editable": true
   },
   "outputs": [
    {
     "name": "stdout",
     "output_type": "stream",
     "text": [
      "creating <class '__main__.HasFeatures'>\n"
     ]
    }
   ],
   "source": [
    "class HasFeatures(six.with_metaclass(MetaHasFeatures, object)):\n",
    "    pass"
   ]
  },
  {
   "cell_type": "code",
   "execution_count": 56,
   "metadata": {
    "collapsed": true,
    "deletable": true,
    "editable": true
   },
   "outputs": [],
   "source": [
    "\"\"\"\n",
    "MyInt inherits Feature\n",
    "klass is overriden -> only accepts ints\n",
    "\"\"\"\n",
    "class MyInt(Feature):\n",
    "    # this feature only accepts ints\n",
    "    klass = int"
   ]
  },
  {
   "cell_type": "code",
   "execution_count": 57,
   "metadata": {
    "collapsed": true,
    "deletable": true,
    "editable": true
   },
   "outputs": [],
   "source": [
    "\"\"\"\n",
    "MyStr inherits Feature\n",
    "klass is overriden -> only accepts ints\n",
    "\"\"\"\n",
    "class MyStr(Feature):\n",
    "    # this feature only accepts strings\n",
    "    klass = str"
   ]
  },
  {
   "cell_type": "code",
   "execution_count": 58,
   "metadata": {
    "collapsed": true,
    "deletable": true,
    "editable": true
   },
   "outputs": [],
   "source": [
    "class MyBool(Feature):\n",
    "    # this feature only accepts boolean\n",
    "    klass = bool"
   ]
  },
  {
   "cell_type": "code",
   "execution_count": 59,
   "metadata": {
    "collapsed": false,
    "deletable": true,
    "editable": true
   },
   "outputs": [
    {
     "name": "stdout",
     "output_type": "stream",
     "text": [
      "creating <class '__main__.MyClass'>\n",
      "the feature <__main__.MyInt object at 0x10e303080> was assigned to 'i'\n",
      "the feature <__main__.MyStr object at 0x10e303fd0> was assigned to 's'\n",
      "the feature <__main__.MyBool object at 0x10e303128> was assigned to 'b'\n"
     ]
    }
   ],
   "source": [
    "\"\"\"\n",
    "MyClass inherits HasFeatures\n",
    "six.with_metaclass(metaclass, *bases)\n",
    "Create a new class with base classes bases and metaclass metaclass. \n",
    "This is designed to be used in class declarations\n",
    "\"\"\"\n",
    "class MyClass(HasFeatures):\n",
    "    i = MyInt()\n",
    "    s = MyStr()\n",
    "    b = MyBool()\n",
    "mc = MyClass()"
   ]
  },
  {
   "cell_type": "code",
   "execution_count": 60,
   "metadata": {
    "collapsed": false,
    "deletable": true,
    "editable": true
   },
   "outputs": [],
   "source": [
    "\n",
    "\n",
    "# try:\n",
    "#     mc.i = 1\n",
    "# except Exception as e:\n",
    "#     print(e)\n",
    "\n",
    "# try:\n",
    "#     mc.s = \"i = 1\"\n",
    "# except Exception as e:\n",
    "#     print(e)\n",
    "    \n",
    "# try:\n",
    "#     mc.b = True\n",
    "# except Exception as e:\n",
    "#     print(e)\n"
   ]
  },
  {
   "cell_type": "code",
   "execution_count": 61,
   "metadata": {
    "collapsed": false,
    "deletable": true,
    "editable": true
   },
   "outputs": [
    {
     "name": "stdout",
     "output_type": "stream",
     "text": [
      "-------------------------------\n",
      "assigned the value 1\n",
      "-------------------------------\n",
      "assigned the value i = 1\n",
      "-------------------------------\n",
      "assigned the value True\n"
     ]
    }
   ],
   "source": [
    "print(\"-------------------------------\")\n",
    "mc.i = 1\n",
    "print(\"assigned the value %r\" % 1)\n",
    "\n",
    "print(\"-------------------------------\")\n",
    "mc.s = \"i = 1\"\n",
    "print(\"assigned the value %s\" % \"i = 1\")\n",
    "\n",
    "print(\"-------------------------------\")\n",
    "mc.b = True\n",
    "print(\"assigned the value %r\" % True)"
   ]
  },
  {
   "cell_type": "code",
   "execution_count": 62,
   "metadata": {
    "collapsed": false,
    "deletable": true,
    "editable": true
   },
   "outputs": [
    {
     "name": "stdout",
     "output_type": "stream",
     "text": [
      "-------------------------------\n",
      "get 1 from <__main__.MyClass object at 0x10e303f98>\n",
      "-------------------------------\n",
      "get i = 1 from <__main__.MyClass object at 0x10e303f98>\n",
      "-------------------------------\n",
      "get True from <__main__.MyClass object at 0x10e303f98>\n"
     ]
    }
   ],
   "source": [
    "print(\"-------------------------------\")\n",
    "print(\"get %r from %r\" % (mc.i, mc))\n",
    "print(\"-------------------------------\")\n",
    "print(\"get %s from %r\" % (mc.s, mc))\n",
    "print(\"-------------------------------\")\n",
    "print(\"get %r from %r\" % (mc.b, mc))"
   ]
  },
  {
   "cell_type": "markdown",
   "metadata": {
    "deletable": true,
    "editable": true
   },
   "source": [
    "#### Let's go back to decorators..."
   ]
  },
  {
   "cell_type": "markdown",
   "metadata": {
    "deletable": true,
    "editable": true
   },
   "source": [
    "A `BaseDecorator` object. When called, it must still act like a method."
   ]
  },
  {
   "cell_type": "code",
   "execution_count": 63,
   "metadata": {
    "collapsed": true,
    "deletable": true,
    "editable": true
   },
   "outputs": [],
   "source": [
    "class BaseDecorator(object):\n",
    "\n",
    "    def __init__(self, name, method):\n",
    "        print('BaseDecorator __init__')\n",
    "        self.feature_name = name\n",
    "        self.method = method\n",
    "    \n",
    "    def __call__(self, *args, **kwargs):\n",
    "        print('BaseDecorator __call__')\n",
    "        return self.method(*args, **kwargs)\n",
    "    \n",
    "    def __get__(self, obj, cls):\n",
    "        print('BaseDecorator __get__')\n",
    "        if obj is None:\n",
    "            return self\n",
    "        return types.MethodType(self.method, obj)"
   ]
  },
  {
   "cell_type": "markdown",
   "metadata": {
    "deletable": true,
    "editable": true
   },
   "source": [
    "An `observe` decorator. Wraps a method in an `Observer` object."
   ]
  },
  {
   "cell_type": "code",
   "execution_count": 64,
   "metadata": {
    "collapsed": true,
    "deletable": true,
    "editable": true
   },
   "outputs": [],
   "source": [
    "def observe(name):\n",
    "    print('observe decorator')\n",
    "    def setup(method):\n",
    "        print('observe decorator setup')\n",
    "        return Observer(name, method)\n",
    "    return setup"
   ]
  },
  {
   "cell_type": "markdown",
   "metadata": {
    "deletable": true,
    "editable": true
   },
   "source": [
    "An `Observer` object. After the instance is created it must register itself as an observer."
   ]
  },
  {
   "cell_type": "code",
   "execution_count": 65,
   "metadata": {
    "collapsed": false,
    "deletable": true,
    "editable": true
   },
   "outputs": [
    {
     "name": "stdout",
     "output_type": "stream",
     "text": [
      "class Observer\n"
     ]
    }
   ],
   "source": [
    "class Observer(BaseDecorator):\n",
    "    print('class Observer')\n",
    "    def instance_init(self, obj):\n",
    "        print('instance_init')\n",
    "        obj.observe(self, self.feature_name)\n",
    "        print('obj.observe')"
   ]
  },
  {
   "cell_type": "markdown",
   "metadata": {
    "deletable": true,
    "editable": true
   },
   "source": [
    "An `OtherFeature` descriptor. It will notify its owner whenever a value changes"
   ]
  },
  {
   "cell_type": "code",
   "execution_count": 66,
   "metadata": {
    "collapsed": false,
    "deletable": true,
    "editable": true
   },
   "outputs": [
    {
     "name": "stdout",
     "output_type": "stream",
     "text": [
      "OtherFeature\n"
     ]
    }
   ],
   "source": [
    "class OtherFeature(Feature):\n",
    "    print('OtherFeature')\n",
    "    def __set__(self, obj, new):\n",
    "        print('OtherFeature __set__')\n",
    "#         print('old: ', old)\n",
    "        print('obj.__dict__', obj.__dict__)\n",
    "        old = obj.__dict__.get(self.name, None)\n",
    "        print('obj.__dict__', obj.__dict__)\n",
    "        super(OtherFeature, self).__set__(obj, new)\n",
    "        if new != old:\n",
    "            data = dict(old=old, new=new, name=self.name, owner=obj)\n",
    "            obj.notify(data)"
   ]
  },
  {
   "cell_type": "markdown",
   "metadata": {
    "deletable": true,
    "editable": true
   },
   "source": [
    "A new `HasOtherFeatures` class. \n",
    "\n",
    "It will find `BaseObservers` and call their `instance_init` methods so they can register themselves Offer a method `observe` that will register observers Offer a `notify` which will be used to pass change data to observers."
   ]
  },
  {
   "cell_type": "code",
   "execution_count": 67,
   "metadata": {
    "collapsed": false,
    "deletable": true,
    "editable": true
   },
   "outputs": [
    {
     "name": "stdout",
     "output_type": "stream",
     "text": [
      "HasOtherfeatures\n",
      "creating <class '__main__.HasOtherFeatures'>\n"
     ]
    }
   ],
   "source": [
    "class HasOtherFeatures(HasFeatures):\n",
    "    print('HasOtherfeatures')\n",
    "\n",
    "    def __init__(self):\n",
    "        print('HasOtherfeatures __init__')\n",
    "        self._observers = {}\n",
    "        self.setup()\n",
    "    \n",
    "    def setup(self):\n",
    "        print('HasOtherfeatures setup')\n",
    "        for k, v in inspect.getmembers(type(self)):\n",
    "            if isinstance(v, BaseDecorator):\n",
    "                v.instance_init(self)\n",
    "    \n",
    "    def observe(self, handler, name):\n",
    "        print('HasOtherfeatures observe')\n",
    "        if name in self._observers:\n",
    "            olist = self._observers[name]\n",
    "        else:\n",
    "            olist = []\n",
    "            self._observers[name] = olist\n",
    "        if handler not in olist:\n",
    "            olist.append(handler)\n",
    "    \n",
    "    def notify(self, data):\n",
    "        print('HasOtherfeatures notify')\n",
    "        for o in self._observers.get(data[\"name\"], []):\n",
    "            if isinstance(o, BaseDecorator):\n",
    "                o(self, data)\n",
    "            else:\n",
    "                o(data)"
   ]
  },
  {
   "cell_type": "code",
   "execution_count": 68,
   "metadata": {
    "collapsed": false,
    "deletable": true,
    "editable": true,
    "scrolled": true
   },
   "outputs": [
    {
     "name": "stdout",
     "output_type": "stream",
     "text": [
      "observe decorator\n",
      "observe decorator setup\n",
      "BaseDecorator __init__\n",
      "creating <class '__main__.MyClass'>\n",
      "the feature <__main__.MyInt object at 0x10e3190f0> was assigned to 'i'\n",
      "the feature <__main__.MyStr object at 0x10e3194e0> was assigned to 's'\n",
      "the feature <__main__.MyBool object at 0x10e319128> was assigned to 'b'\n",
      "-------------------------------\n",
      "HasOtherfeatures __init__\n",
      "HasOtherfeatures setup\n",
      "BaseDecorator __get__\n",
      "instance_init\n",
      "HasOtherfeatures observe\n",
      "obj.observe\n",
      "OtherFeature __set__\n",
      "obj.__dict__ {'_observers': {'i': [<__main__.Observer object at 0x10e319dd8>]}}\n",
      "obj.__dict__ {'_observers': {'i': [<__main__.Observer object at 0x10e319dd8>]}}\n",
      "HasOtherfeatures notify\n",
      "BaseDecorator __call__\n",
      "observed a change!\n",
      "{'old': None, 'new': 1, 'name': 'i', 'owner': <__main__.MyClass object at 0x10e314160>}\n",
      "-------------------------------\n",
      "OtherFeature __set__\n",
      "obj.__dict__ {'_observers': {'i': [<__main__.Observer object at 0x10e319dd8>]}, 'i': 1}\n",
      "obj.__dict__ {'_observers': {'i': [<__main__.Observer object at 0x10e319dd8>]}, 'i': 1}\n",
      "HasOtherfeatures notify\n",
      "BaseDecorator __call__\n",
      "observed a change!\n",
      "{'old': 1, 'new': 2, 'name': 'i', 'owner': <__main__.MyClass object at 0x10e314160>}\n",
      "-------------------------------\n",
      "OtherFeature __set__\n",
      "obj.__dict__ {'_observers': {'i': [<__main__.Observer object at 0x10e319dd8>]}, 'i': 2}\n",
      "obj.__dict__ {'_observers': {'i': [<__main__.Observer object at 0x10e319dd8>]}, 'i': 2}\n",
      "HasOtherfeatures notify\n",
      "-------------------------------\n",
      "OtherFeature __set__\n",
      "obj.__dict__ {'_observers': {'i': [<__main__.Observer object at 0x10e319dd8>]}, 'i': 2, 's': 'i = 2'}\n",
      "obj.__dict__ {'_observers': {'i': [<__main__.Observer object at 0x10e319dd8>]}, 'i': 2, 's': 'i = 2'}\n",
      "HasOtherfeatures notify\n",
      "-------------------------------\n"
     ]
    }
   ],
   "source": [
    "class MyInt(OtherFeature):\n",
    "    # this feature only accepts ints\n",
    "    klass = int\n",
    "    \n",
    "class MyStr(OtherFeature):\n",
    "    # this feature only accepts strings\n",
    "    klass = str\n",
    "    \n",
    "class MyBool(OtherFeature):\n",
    "    # this feature only accepts boolean\n",
    "    klass = bool\n",
    "\n",
    "class MyClass(HasOtherFeatures):\n",
    "    i = MyInt()\n",
    "    s = MyStr()\n",
    "    b = MyBool()\n",
    "    \n",
    "    @observe(\"i\")\n",
    "    def _i_observer(self, data):\n",
    "        print(\"observed a change!\")\n",
    "        print(data)\n",
    "\n",
    "print(\"-------------------------------\")\n",
    "\n",
    "mc = MyClass()\n",
    "mc.i = 1\n",
    "print(\"-------------------------------\")\n",
    "mc.i = 2\n",
    "print(\"-------------------------------\")\n",
    "mc.s = 'i = 2'\n",
    "print(\"-------------------------------\")\n",
    "mc.b = True\n",
    "print(\"-------------------------------\")"
   ]
  },
  {
   "cell_type": "markdown",
   "metadata": {
    "collapsed": true,
    "deletable": true,
    "editable": true
   },
   "source": [
    "#### Traitlets"
   ]
  },
  {
   "cell_type": "code",
   "execution_count": null,
   "metadata": {
    "collapsed": true,
    "deletable": true,
    "editable": true
   },
   "outputs": [],
   "source": [
    "class MyClass(HasTraits):\n",
    "\n",
    "    i = Int()\n",
    "    j = Int()\n",
    "\n",
    "    @default(\"i\")\n",
    "    def _i_default(self):\n",
    "        \"\"\"The default value for the trait 'i'\n",
    "        \"\"\"\n",
    "        print(\"generating default value\")\n",
    "        return 0\n",
    "    \n",
    "    @validate(\"i\")\n",
    "    def _i_validation(self, proposal):\n",
    "        \"\"\"A \"cross validator\" for the trait 'i'\n",
    "        \"\"\"\n",
    "        print(\"cross validating %r\" % proposal.value)\n",
    "        return proposal.value\n",
    "    \n",
    "    @observe(\"i\", type=\"change\")\n",
    "    def _i_observer(self, change):\n",
    "        \"\"\"An observer for the trait 'i'\n",
    "        \"\"\"\n",
    "        print(\"observed a change from %r to %r\" % (change.old, change.new))\n",
    "        \n",
    "    \n",
    "    @default(\"j\")\n",
    "    def _j_default(self):\n",
    "        \"\"\"The default value for the trait 'j'\n",
    "        \"\"\"\n",
    "        print(\"generating default value\")\n",
    "        return 0\n",
    "    \n",
    "    @validate(\"j\")\n",
    "    def _j_validation(self, proposal):\n",
    "        \"\"\"A \"cross validator\" for the trait 'j'\n",
    "        \"\"\"\n",
    "        print(\"cross validating %r\" % proposal.value)\n",
    "        return proposal.value\n",
    "    \n",
    "    @observe(\"j\", type=\"change\")\n",
    "    def _j_observer(self, change):\n",
    "        \"\"\"An observer for the trait 'j'\n",
    "        \"\"\"\n",
    "        print(\"observed a change from %r to %r\" % (change.old, change.new))"
   ]
  },
  {
   "cell_type": "code",
   "execution_count": 35,
   "metadata": {
    "collapsed": false,
    "deletable": true,
    "editable": true
   },
   "outputs": [
    {
     "name": "stdout",
     "output_type": "stream",
     "text": [
      "HasOtherfeatures __init__\n",
      "HasOtherfeatures setup\n",
      "BaseDecorator __get__\n",
      "instance_init\n",
      "HasOtherfeatures observe\n",
      "obj.observe\n",
      "-------------------------------\n",
      "OtherFeature __set__\n",
      "obj.__dict__ {'_observers': {'i': [<__main__.Observer object at 0x10dff00f0>]}, 'j': '6'}\n",
      "obj.__dict__ {'_observers': {'i': [<__main__.Observer object at 0x10dff00f0>]}, 'j': '6'}\n"
     ]
    },
    {
     "ename": "NameError",
     "evalue": "name 'TraitError' is not defined",
     "output_type": "error",
     "traceback": [
      "\u001b[0;31m---------------------------------------------------------------------------\u001b[0m",
      "\u001b[0;31mTypeError\u001b[0m                                 Traceback (most recent call last)",
      "\u001b[0;32m<ipython-input-35-955f999daa43>\u001b[0m in \u001b[0;36m<module>\u001b[0;34m()\u001b[0m\n\u001b[1;32m      9\u001b[0m \u001b[0;32mtry\u001b[0m\u001b[0;34m:\u001b[0m\u001b[0;34m\u001b[0m\u001b[0m\n\u001b[0;32m---> 10\u001b[0;31m     \u001b[0mmc\u001b[0m\u001b[0;34m.\u001b[0m\u001b[0mi\u001b[0m \u001b[0;34m=\u001b[0m \u001b[0;34m\"1\"\u001b[0m\u001b[0;34m\u001b[0m\u001b[0m\n\u001b[0m\u001b[1;32m     11\u001b[0m \u001b[0;32mexcept\u001b[0m \u001b[0mTraitError\u001b[0m\u001b[0;34m:\u001b[0m\u001b[0;34m\u001b[0m\u001b[0m\n",
      "\u001b[0;32m<ipython-input-31-ee0ed00ad6ad>\u001b[0m in \u001b[0;36m__set__\u001b[0;34m(self, obj, new)\u001b[0m\n\u001b[1;32m      8\u001b[0m         \u001b[0mprint\u001b[0m\u001b[0;34m(\u001b[0m\u001b[0;34m'obj.__dict__'\u001b[0m\u001b[0;34m,\u001b[0m \u001b[0mobj\u001b[0m\u001b[0;34m.\u001b[0m\u001b[0m__dict__\u001b[0m\u001b[0;34m)\u001b[0m\u001b[0;34m\u001b[0m\u001b[0m\n\u001b[0;32m----> 9\u001b[0;31m         \u001b[0msuper\u001b[0m\u001b[0;34m(\u001b[0m\u001b[0mOtherFeature\u001b[0m\u001b[0;34m,\u001b[0m \u001b[0mself\u001b[0m\u001b[0;34m)\u001b[0m\u001b[0;34m.\u001b[0m\u001b[0m__set__\u001b[0m\u001b[0;34m(\u001b[0m\u001b[0mobj\u001b[0m\u001b[0;34m,\u001b[0m \u001b[0mnew\u001b[0m\u001b[0;34m)\u001b[0m\u001b[0;34m\u001b[0m\u001b[0m\n\u001b[0m\u001b[1;32m     10\u001b[0m         \u001b[0;32mif\u001b[0m \u001b[0mnew\u001b[0m \u001b[0;34m!=\u001b[0m \u001b[0mold\u001b[0m\u001b[0;34m:\u001b[0m\u001b[0;34m\u001b[0m\u001b[0m\n",
      "\u001b[0;32m<ipython-input-18-217e34386d2b>\u001b[0m in \u001b[0;36m__set__\u001b[0;34m(self, obj, value)\u001b[0m\n\u001b[1;32m     28\u001b[0m         \u001b[0;32melse\u001b[0m\u001b[0;34m:\u001b[0m\u001b[0;34m\u001b[0m\u001b[0m\n\u001b[0;32m---> 29\u001b[0;31m             \u001b[0;32mraise\u001b[0m \u001b[0mTypeError\u001b[0m\u001b[0;34m(\u001b[0m\u001b[0;34m\"Expected a %r instance, not %s\"\u001b[0m \u001b[0;34m%\u001b[0m \u001b[0;34m(\u001b[0m\u001b[0mself\u001b[0m\u001b[0;34m.\u001b[0m\u001b[0mklass\u001b[0m\u001b[0;34m,\u001b[0m \u001b[0mdescribe\u001b[0m\u001b[0;34m(\u001b[0m\u001b[0;34m\"the\"\u001b[0m\u001b[0;34m,\u001b[0m \u001b[0mvalue\u001b[0m\u001b[0;34m)\u001b[0m\u001b[0;34m)\u001b[0m\u001b[0;34m)\u001b[0m\u001b[0;34m\u001b[0m\u001b[0m\n\u001b[0m\u001b[1;32m     30\u001b[0m \u001b[0;34m\u001b[0m\u001b[0m\n",
      "\u001b[0;31mTypeError\u001b[0m: Expected a <class 'int'> instance, not the str '1'",
      "\nDuring handling of the above exception, another exception occurred:\n",
      "\u001b[0;31mNameError\u001b[0m                                 Traceback (most recent call last)",
      "\u001b[0;32m<ipython-input-35-955f999daa43>\u001b[0m in \u001b[0;36m<module>\u001b[0;34m()\u001b[0m\n\u001b[1;32m      9\u001b[0m \u001b[0;32mtry\u001b[0m\u001b[0;34m:\u001b[0m\u001b[0;34m\u001b[0m\u001b[0m\n\u001b[1;32m     10\u001b[0m     \u001b[0mmc\u001b[0m\u001b[0;34m.\u001b[0m\u001b[0mi\u001b[0m \u001b[0;34m=\u001b[0m \u001b[0;34m\"1\"\u001b[0m\u001b[0;34m\u001b[0m\u001b[0m\n\u001b[0;32m---> 11\u001b[0;31m \u001b[0;32mexcept\u001b[0m \u001b[0mTraitError\u001b[0m\u001b[0;34m:\u001b[0m\u001b[0;34m\u001b[0m\u001b[0m\n\u001b[0m\u001b[1;32m     12\u001b[0m     \u001b[0mprint\u001b[0m\u001b[0;34m(\u001b[0m\u001b[0;34m\"mc.i get an error assigning strings\"\u001b[0m\u001b[0;34m)\u001b[0m\u001b[0;34m\u001b[0m\u001b[0m\n\u001b[1;32m     13\u001b[0m \u001b[0;34m\u001b[0m\u001b[0m\n",
      "\u001b[0;31mNameError\u001b[0m: name 'TraitError' is not defined"
     ]
    }
   ],
   "source": [
    "mc = MyClass()\n",
    "\n",
    "try:\n",
    "    mc.j = \"6\"\n",
    "except TraitError:\n",
    "    print(\"mc.j get an error assigning strings\")\n",
    "print(\"-------------------------------\")\n",
    "\n",
    "try:\n",
    "    mc.i = \"1\"\n",
    "except TraitError:\n",
    "    print(\"mc.i get an error assigning strings\")\n",
    "\n",
    "print(\"i: got the default value %r\" % mc.i)\n",
    "print(\"-------------------------------\")\n",
    "\n",
    "print(\"j: got the default value %r\" % mc.j)\n",
    "print(\"-------------------------------\")\n",
    "\n",
    "print(\"-------------------------------\")\n",
    "mc.i = 1\n",
    "# print(\"assigned, but no change occured\")\n",
    "print(\"-------------------------------\")\n",
    "mc.j = 2\n",
    "print(\"-------------------------------\")"
   ]
  },
  {
   "cell_type": "markdown",
   "metadata": {
    "deletable": true,
    "editable": true
   },
   "source": [
    "# Traitlets\n",
    "---\n",
    "\n",
    "## Defaults\n",
    "\n",
    "Default value generators create values \"on request\". In other words, it's only when you call `getattr`\n",
    "that the method `MyClass._i_default` will be used to create the default. Whatever it returns will be validated, assigned as the current value of the trait, and then returned to the getattr call.\n",
    "\n",
    "## Validation\n",
    "\n",
    "Traits have internal validation and cross validation. The interal stages occur first, and are the same for all instances of a trait type. Cross validators are created by users with the `@validate` decorator - we call them this because a validator which is a method on the owner of the trait can check to see whether the value is correct with respect to the state of the instance itself - say to check whether a value falls between the `min` and `max` attributes on the owner instance. Cross validation occurs after internal validation, so a cross validator of an `Int` trait can already expect that the values it recieves are `int` instances. No need to check whether `isinstance(proposal.value, int)`.\n",
    "\n",
    "## Observers\n",
    "\n",
    "Events can be observed by specifying trait names, traits with certain metadata, and/or events of a certain type. These events are triggered by passing a bunch to the method `HasTraits.notify_change`. So if you need to create your own kinds of events that people can listen into you need only define a bunch with a 'name' and a 'type'."
   ]
  },
  {
   "cell_type": "code",
   "execution_count": null,
   "metadata": {
    "collapsed": true
   },
   "outputs": [],
   "source": [
    "def on_the_fly_observer(change):\n",
    "    print(\"caught the same change on the fly\" % change)\n",
    "\n",
    "mc.observe(on_the_fly_observer, \"i\")\n",
    "mc.i = 3"
   ]
  }
 ],
 "metadata": {
  "kernelspec": {
   "display_name": "Python 3",
   "language": "python",
   "name": "python3"
  },
  "language_info": {
   "codemirror_mode": {
    "name": "ipython",
    "version": 3
   },
   "file_extension": ".py",
   "mimetype": "text/x-python",
   "name": "python",
   "nbconvert_exporter": "python",
   "pygments_lexer": "ipython3",
   "version": "3.6.1"
  }
 },
 "nbformat": 4,
 "nbformat_minor": 2
}
