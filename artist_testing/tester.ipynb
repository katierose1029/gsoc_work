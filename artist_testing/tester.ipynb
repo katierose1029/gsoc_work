{
 "cells": [
  {
   "cell_type": "code",
   "execution_count": 1,
   "metadata": {
    "collapsed": true
   },
   "outputs": [],
   "source": [
    "# Let printing work the same in Python 2 and 3\n",
    "from __future__ import print_function\n",
    "# Turning on inline plots -- just for use in ipython notebooks.\n",
    "import matplotlib\n",
    "matplotlib.use('nbagg')\n",
    "import numpy as np\n",
    "import matplotlib.pyplot as plt"
   ]
  },
  {
   "cell_type": "markdown",
   "metadata": {},
   "source": [
    "#### matplotlib API Layers: \n",
    "1. ``matplotlib.backend_bases.FigureCanvas``: where figure is drawn\n",
    "2. ``matplotlib.backend_bases.Renderer``: obj knows how to draw on ``FigureCanvas``\n",
    "3. ``matplotlib.artist.Artist``: obj knows how to use a renderer to \"paint\" onto canvas\n",
    "    - dare I say the 'middle man'\n",
    "\n",
    "``FigureCanvas`` & ``Renderer`` handle details of drawing a figure \n",
    "\n",
    "``Artist`` handles high level constructs \n",
    "    - laying out figure, text, and lines"
   ]
  },
  {
   "cell_type": "markdown",
   "metadata": {},
   "source": [
    "#### Types of Artist:\n",
    "1. Primitives:\n",
    "    - represent std graphical objects to paint onto canvas\n",
    "        - ie: Line2D, Rectangle, AxesImage\n",
    "2. Containers: \n",
    "    - represent places to put 'drawings'\n",
    "        - ie: Axis, Axes, Figure, etc. "
   ]
  },
  {
   "cell_type": "code",
   "execution_count": 2,
   "metadata": {},
   "outputs": [],
   "source": [
    "fig = plt.figure()\n",
    "ax = fig.add_subplot(2,1,1) # two rows, one column, first plot"
   ]
  },
  {
   "cell_type": "markdown",
   "metadata": {},
   "source": [
    "#### Axes\n",
    "- Contains various helper methods to create most common graphic primitives:\n",
    "    - helper methods: take data (numpy arrays & strings) and create primitive ``Artist`` instances, add then to relevant containers, & draw when requested\n",
    "        - ie: ``plot()``, ``text()``, ``hist()``, ``imshow()``\n",
    "    - graphic primitives:\n",
    "        - ie: ``Line2D``, ``Text``, ``Rectangle``, ``Image``\n",
    "    "
   ]
  },
  {
   "cell_type": "code",
   "execution_count": 3,
   "metadata": {},
   "outputs": [],
   "source": [
    "fig2 = plt.figure()\n",
    "ax2 = fig2.add_axes([0.15, 0.1, 0.7, 0.3])\n",
    "# matplotlib.artist.getp(ax2)\n",
    "# matplotlib.artist.getp(ax2, 'linestyle')\n",
    "# plt.show()"
   ]
  },
  {
   "cell_type": "code",
   "execution_count": 4,
   "metadata": {
    "collapsed": true
   },
   "outputs": [],
   "source": [
    "import numpy as np\n",
    "t = np.arange(0.0, 1.0, 0.01)\n",
    "s = np.sin(2*np.pi*t)\n",
    "line, = ax.plot(t, s, color='blue', lw=2)"
   ]
  },
  {
   "cell_type": "code",
   "execution_count": 5,
   "metadata": {},
   "outputs": [
    {
     "data": {
      "text/plain": [
       "<matplotlib.lines.Line2D at 0x107b8ccf8>"
      ]
     },
     "execution_count": 5,
     "metadata": {},
     "output_type": "execute_result"
    }
   ],
   "source": [
    "ax.lines[0]"
   ]
  },
  {
   "cell_type": "code",
   "execution_count": 6,
   "metadata": {},
   "outputs": [
    {
     "data": {
      "text/plain": [
       "<matplotlib.axes._subplots.AxesSubplot at 0x10644d128>"
      ]
     },
     "execution_count": 6,
     "metadata": {},
     "output_type": "execute_result"
    }
   ],
   "source": [
    "\"\"\"\n",
    "ax -> Axes instance created byfig.add_subplot\n",
    "Subplot is a subclass of Axes\n",
    "\"\"\"\n",
    "ax"
   ]
  },
  {
   "cell_type": "code",
   "execution_count": 7,
   "metadata": {},
   "outputs": [
    {
     "data": {
      "text/plain": [
       "<matplotlib.lines.Line2D at 0x107b8ccf8>"
      ]
     },
     "execution_count": 7,
     "metadata": {},
     "output_type": "execute_result"
    }
   ],
   "source": [
    "line"
   ]
  },
  {
   "cell_type": "code",
   "execution_count": 8,
   "metadata": {},
   "outputs": [],
   "source": [
    "# from matplotlib.collections import PatchCollection\n",
    "# import matplotlib.path as mpath\n",
    "# import matplotlib.patches as mpatches\n",
    "# import matplotlib.lines as mlines\n",
    "\n",
    "# fig, ax = plt.subplots(1, 1, figsize=(7,7))\n",
    "\n",
    "# # create 3x3 grid to plot the artists\n",
    "# pos = np.mgrid[0.2:0.8:3j, 0.2:0.8:3j].reshape(2, -1)\n",
    "# patches = []\n",
    "\n",
    "# # add a circle\n",
    "# art = mpatches.Circle(pos[:, 0], 0.1, ec=\"none\")\n",
    "# patches.append(art)\n",
    "# plt.text(pos[0, 0], pos[1, 0] - 0.15, \"Circle\", ha=\"center\", size=14)\n",
    "\n",
    "# # add a rectangle\n",
    "# art = mpatches.Rectangle(pos[:, 1] - [0.025, 0.05], 0.05, 0.1, ec=\"none\")\n",
    "# patches.append(art)\n",
    "# plt.text(pos[0, 1], pos[1, 1] - 0.15, \"Rectangle\", ha=\"center\", size=14)\n",
    "\n",
    "# # add a wedge\n",
    "# wedge = mpatches.Wedge(pos[:, 2], 0.1, 30, 270, ec=\"none\")\n",
    "# patches.append(wedge)\n",
    "# plt.text(pos[0, 2], pos[1, 2] - 0.15, \"Wedge\", ha=\"center\", size=14)\n",
    "\n",
    "# # add a Polygon\n",
    "# polygon = mpatches.RegularPolygon(pos[:, 3], 5, 0.1)\n",
    "# patches.append(polygon)\n",
    "# plt.text(pos[0, 3], pos[1, 3] - 0.15, \"Polygon\", ha=\"center\", size=14)\n",
    "\n",
    "# #add an ellipse\n",
    "# ellipse = mpatches.Ellipse(pos[:, 4], 0.2, 0.1)\n",
    "# patches.append(ellipse)\n",
    "# plt.text(pos[0, 4], pos[1, 4] - 0.15, \"Ellipse\", ha=\"center\", size=14)\n",
    "\n",
    "# #add an arrow\n",
    "# arrow = mpatches.Arrow(pos[0, 5] - 0.05, pos[1, 5] - 0.05, 0.1, 0.1, width=0.1)\n",
    "# patches.append(arrow)\n",
    "# plt.text(pos[0, 5], pos[1, 5] - 0.15, \"Arrow\", ha=\"center\", size=14)\n",
    "\n",
    "# # add a path patch\n",
    "# Path = mpath.Path\n",
    "# verts = np.array([\n",
    "#      (0.158, -0.257),\n",
    "#      (0.035, -0.11),\n",
    "#      (-0.175, 0.20),\n",
    "#      (0.0375, 0.20),\n",
    "#      (0.085, 0.115),\n",
    "#      (0.22, 0.32),\n",
    "#      (0.3, 0.005),\n",
    "#      (0.20, -0.05),\n",
    "#      (0.158, -0.257),\n",
    "#     ])\n",
    "# verts = verts - verts.mean(0)\n",
    "# codes = [Path.MOVETO,\n",
    "#          Path.CURVE4, Path.CURVE4, Path.CURVE4, Path.LINETO,\n",
    "#          Path.CURVE4, Path.CURVE4, Path.CURVE4, Path.CLOSEPOLY]\n",
    "\n",
    "# path = mpath.Path(verts / 2.5 + pos[:, 6], codes)\n",
    "# patch = mpatches.PathPatch(path)\n",
    "# patches.append(patch)\n",
    "# plt.text(pos[0, 6], pos[1, 6] - 0.15, \"PathPatch\", ha=\"center\", size=14)\n",
    "\n",
    "# # add a fancy box\n",
    "# fancybox = mpatches.FancyBboxPatch(\n",
    "#         pos[:, 7] - [0.025, 0.05], 0.05, 0.1,\n",
    "#         boxstyle=mpatches.BoxStyle(\"Round\", pad=0.02))\n",
    "# patches.append(fancybox)\n",
    "# plt.text(pos[0, 7], pos[1, 7] - 0.15, \"FancyBoxPatch\", ha=\"center\", size=14)\n",
    "\n",
    "# # add a line\n",
    "# x,y = np.array([[-0.06, 0.0, 0.1], [0.05,-0.05, 0.05]])\n",
    "# line = mlines.Line2D(x+pos[0, 8], y+pos[1, 8], lw=5.)\n",
    "# plt.text(pos[0, 8], pos[1, 8] - 0.15, \"Line2D\", ha=\"center\", size=14)\n",
    "\n",
    "# collection = PatchCollection(patches)\n",
    "# ax.add_collection(collection)\n",
    "# ax.add_line(line)\n",
    "# ax.set_axis_off()\n",
    "\n",
    "# plt.show()"
   ]
  },
  {
   "cell_type": "code",
   "execution_count": 9,
   "metadata": {},
   "outputs": [],
   "source": [
    "# matplotlib.artist.getp(fig.patch)"
   ]
  },
  {
   "cell_type": "code",
   "execution_count": null,
   "metadata": {
    "collapsed": true
   },
   "outputs": [],
   "source": []
  }
 ],
 "metadata": {
  "kernelspec": {
   "display_name": "Python 3",
   "language": "python",
   "name": "python3"
  },
  "language_info": {
   "codemirror_mode": {
    "name": "ipython",
    "version": 3
   },
   "file_extension": ".py",
   "mimetype": "text/x-python",
   "name": "python",
   "nbconvert_exporter": "python",
   "pygments_lexer": "ipython3",
   "version": "3.6.0"
  }
 },
 "nbformat": 4,
 "nbformat_minor": 2
}
