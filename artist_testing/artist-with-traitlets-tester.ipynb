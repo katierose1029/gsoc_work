{
 "cells": [
  {
   "cell_type": "code",
   "execution_count": null,
   "metadata": {},
   "outputs": [],
   "source": [
    "%matplotlib\n",
    "import matplotlib\n",
    "from matplotlib._traits.artist import Artist\n",
    "from matplotlib._traits.traits import *\n",
    "import numpy as np\n",
    "import matplotlib.pyplot as plt"
   ]
  },
  {
   "cell_type": "code",
   "execution_count": null,
   "metadata": {},
   "outputs": [],
   "source": [
    "import matplotlib.pyplot as plt\n",
    "plt.plot([4, 3, 2, 1])\n",
    "plt.ylabel('some numbers')\n",
    "plt.show()"
   ]
  },
  {
   "cell_type": "code",
   "execution_count": null,
   "metadata": {},
   "outputs": [],
   "source": [
    "my_artist = artist.Artist()"
   ]
  },
  {
   "cell_type": "code",
   "execution_count": null,
   "metadata": {},
   "outputs": [],
   "source": [
    "my_artist"
   ]
  },
  {
   "cell_type": "code",
   "execution_count": null,
   "metadata": {},
   "outputs": [],
   "source": [
    "my_figure = plt.figure()\n",
    "my_figure"
   ]
  },
  {
   "cell_type": "code",
   "execution_count": null,
   "metadata": {
    "collapsed": true
   },
   "outputs": [],
   "source": [
    "np.random.seed(1)\n",
    "x = np.arange(5)\n",
    "y = np.random.randn(5)\n",
    "\n",
    "fig, axes = plt.subplots(ncols=2, figsize=plt.figaspect(1./2))\n",
    "\n",
    "vert_bars = axes[0].bar(x, y, color='lightblue', align='center')\n",
    "horiz_bars = axes[1].barh(x, y, color='lightblue', align='center')\n",
    "\n",
    "# I'll also introduce axhline & axvline to draw a line all the way across the axes\n",
    "# This can be a quick-n-easy way to draw an axis \"spine\".\n",
    "axes[0].axhline(0, color='gray', linewidth=2)\n",
    "axes[1].axvline(0, color='gray', linewidth=2)\n",
    "\n",
    "plt.show()"
   ]
  }
 ],
 "metadata": {
  "kernelspec": {
   "display_name": "Python 3",
   "language": "python",
   "name": "python3"
  },
  "language_info": {
   "codemirror_mode": {
    "name": "ipython",
    "version": 3
   },
   "file_extension": ".py",
   "mimetype": "text/x-python",
   "name": "python",
   "nbconvert_exporter": "python",
   "pygments_lexer": "ipython3",
   "version": "3.6.2"
  }
 },
 "nbformat": 4,
 "nbformat_minor": 2
}
